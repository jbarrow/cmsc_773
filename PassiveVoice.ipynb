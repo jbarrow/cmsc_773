{
 "cells": [
  {
   "cell_type": "code",
   "execution_count": 2,
   "metadata": {
    "collapsed": true
   },
   "outputs": [],
   "source": [
    "%matplotlib inline"
   ]
  },
  {
   "cell_type": "code",
   "execution_count": 3,
   "metadata": {
    "collapsed": true
   },
   "outputs": [],
   "source": [
    "from clpsych.store import Store\n",
    "from clpsych.data import *\n",
    "from collections import Counter\n",
    "\n",
    "import pandas as pd\n",
    "import codecs\n",
    "import os"
   ]
  },
  {
   "cell_type": "code",
   "execution_count": 4,
   "metadata": {},
   "outputs": [
    {
     "name": "stdout",
     "output_type": "stream",
     "text": [
      "0\n",
      "10\n",
      "20\n",
      "30\n",
      "40\n",
      "50\n",
      "60\n",
      "70\n",
      "80\n",
      "90\n",
      "100\n",
      "110\n",
      "120\n",
      "130\n",
      "140\n",
      "150\n",
      "160\n",
      "170\n",
      "180\n",
      "190\n",
      "200\n",
      "210\n"
     ]
    }
   ],
   "source": [
    "pvs = []\n",
    "i = 0\n",
    "while os.path.isfile('data/parses/{}.parse'.format(i)):\n",
    "    if i % 10 == 0: print i\n",
    "    # load all the parses\n",
    "    docs, titles = read_parses('data/parses/{}.parse'.format(i))\n",
    "    # get all the passive voice\n",
    "    keys = [key for key in docs.keys() if key]\n",
    "    for key in keys:\n",
    "        pv = []\n",
    "        for token in docs[key]:\n",
    "            if token.dep == 'nsubjpass':\n",
    "                pv.append(token.dep + ':' + token.lemma)\n",
    "        for token in titles[key]:\n",
    "            if token.dep == 'nsubjpass':\n",
    "                pv.append(token.dep + ':' + token.lemma)\n",
    "        pvs.append((key, pv))\n",
    "    i += 1\n",
    "pvs = pd.DataFrame(pvs, columns=['post_id', 'passives'])"
   ]
  },
  {
   "cell_type": "code",
   "execution_count": 5,
   "metadata": {
    "collapsed": true
   },
   "outputs": [],
   "source": [
    "train_classes = pd.DataFrame.from_csv('data/classes/train_classes.txt')\n",
    "dev_classes = pd.DataFrame.from_csv('data/classes/dev_classes.txt')\n",
    "sample_classes = pd.DataFrame.from_csv('data/classes/sample_classes.txt')"
   ]
  },
  {
   "cell_type": "code",
   "execution_count": 6,
   "metadata": {
    "collapsed": true
   },
   "outputs": [],
   "source": [
    "train_pvs = pvs.merge(train_classes, on='post_id')\n",
    "test_pvs = pvs.merge(dev_classes, on='post_id')"
   ]
  },
  {
   "cell_type": "code",
   "execution_count": 7,
   "metadata": {
    "collapsed": true
   },
   "outputs": [],
   "source": [
    "positives = [p for ps in train_pvs[train_pvs['class'] == True]['passives'].tolist() for p in ps]\n",
    "controls = [p for ps in train_pvs[train_pvs['class'] == False]['passives'].tolist() for p in ps]"
   ]
  },
  {
   "cell_type": "code",
   "execution_count": 8,
   "metadata": {
    "collapsed": true
   },
   "outputs": [],
   "source": [
    "pos_cnt = Counter(positives)\n",
    "#pos_cnt = {k: v for k, v in pos_cnt.items() if v > 20}"
   ]
  },
  {
   "cell_type": "code",
   "execution_count": 9,
   "metadata": {
    "collapsed": true
   },
   "outputs": [],
   "source": [
    "all_cnt = Counter(positives + controls)\n",
    "all_cnt = {k: v for k, v in all_cnt.items() if v > 20}"
   ]
  },
  {
   "cell_type": "code",
   "execution_count": 10,
   "metadata": {
    "collapsed": true
   },
   "outputs": [],
   "source": [
    "pos_total = sum([v for k, v in pos_cnt.items()])\n",
    "all_total = sum([v for k, v in all_cnt.items()])"
   ]
  },
  {
   "cell_type": "code",
   "execution_count": 13,
   "metadata": {
    "collapsed": true
   },
   "outputs": [],
   "source": [
    "pos_cnt = Counter({k: 1.*v/pos_total for k, v in pos_cnt.items()})\n",
    "all_cnt = {k: 1.*v/all_total for k, v in all_cnt.items()}"
   ]
  },
  {
   "cell_type": "code",
   "execution_count": 14,
   "metadata": {},
   "outputs": [],
   "source": [
    "from sklearn.feature_extraction.text import CountVectorizer\n",
    "from sklearn.decomposition import TruncatedSVD\n",
    "\n",
    "vect = CountVectorizer(tokenizer=lambda x: x, lowercase=False, vocabulary=[pv[0] for pv in pos_cnt.most_common(25)])\n",
    "X_train = vect.fit_transform(train_pvs['passives'])\n",
    "X_test = vect.transform(test_pvs['passives'])\n",
    "\n",
    "# svd = TruncatedSVD(n_components=10)\n",
    "# X_train = svd.fit_transform(X_train)\n",
    "# X_test = svd.transform(X_test)\n",
    "\n",
    "y_train = train_pvs['class'].as_matrix()\n",
    "y_test = test_pvs['class'].as_matrix()"
   ]
  },
  {
   "cell_type": "code",
   "execution_count": 16,
   "metadata": {},
   "outputs": [
    {
     "name": "stdout",
     "output_type": "stream",
     "text": [
      "Accuracy: 0.728855914899\n",
      "AUC: 0.513130429477\n",
      "F1 Score: 0.843154129122\n"
     ]
    },
    {
     "data": {
      "image/png": "[encoded data removed]",
      "text/plain": [
       "<matplotlib.figure.Figure at 0x7f3b1c0ccb10>"
      ]
     },
     "metadata": {},
     "output_type": "display_data"
    }
   ],
   "source": [
    "from sklearn.ensemble import RandomForestClassifier\n",
    "from sklearn.metrics import roc_curve, accuracy_score, roc_auc_score, f1_score\n",
    "\n",
    "import matplotlib.pyplot as plt\n",
    "import seaborn as sns\n",
    "\n",
    "clf = RandomForestClassifier()\n",
    "clf.fit(X_train, y_train)\n",
    "\n",
    "labels = clf.predict_proba(X_test)\n",
    "\n",
    "print 'Accuracy:', accuracy_score(y_test, np.argmax(labels, axis=1))\n",
    "\n",
    "fpr, tpr, thresholds = roc_curve(y_test, labels[:, 1])\n",
    "\n",
    "plt.plot(fpr, tpr)\n",
    "plt.title('Post-Level ROC Curve Predition (AUC: {})'.format(roc_auc_score(y_test, labels[:, 1])))\n",
    "plt.xlabel('FPR')\n",
    "plt.ylabel('TPR')\n",
    "plt.xlim(0, 1)\n",
    "plt.ylim(0, 1)\n",
    "plt.plot([0, 1], [0, 1], 'k--')\n",
    "plt.savefig('passive_voice_uninformative.png')\n",
    "\n",
    "print 'AUC:', roc_auc_score(y_test, labels[:, 1])\n",
    "print 'F1 Score:', f1_score(y_test, np.argmax(labels, axis=1))"
   ]
  },
  {
   "cell_type": "code",
   "execution_count": null,
   "metadata": {
    "collapsed": true
   },
   "outputs": [],
   "source": []
  }
 ],
 "metadata": {
  "kernelspec": {
   "display_name": "Python 2",
   "language": "python",
   "name": "python2"
  },
  "language_info": {
   "codemirror_mode": {
    "name": "ipython",
    "version": 2
   },
   "file_extension": ".py",
   "mimetype": "text/x-python",
   "name": "python",
   "nbconvert_exporter": "python",
   "pygments_lexer": "ipython2",
   "version": "2.7.12"
  }
 },
 "nbformat": 4,
 "nbformat_minor": 2
}
