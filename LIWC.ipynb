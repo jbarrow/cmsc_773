{
 "cells": [
  {
   "cell_type": "code",
   "execution_count": 27,
   "metadata": {
    "collapsed": true
   },
   "outputs": [],
   "source": [
    "%matplotlib inline"
   ]
  },
  {
   "cell_type": "code",
   "execution_count": 1,
   "metadata": {
    "collapsed": true
   },
   "outputs": [],
   "source": [
    "from sklearn.feature_extraction.text import CountVectorizer\n",
    "from clpsych.store import Store\n",
    "from clpsych.helpers import load_tokens\n",
    "\n",
    "import matplotlib.pyplot as plt\n",
    "import seaborn as sns\n",
    "import pandas as pd\n",
    "import numpy as np\n",
    "import codecs"
   ]
  },
  {
   "cell_type": "code",
   "execution_count": 2,
   "metadata": {
    "collapsed": true
   },
   "outputs": [],
   "source": [
    "def read_liwc(path='./data/other_materials/liwc/LIWC2007.dic'):\n",
    "    reading_words = []\n",
    "    categories, words = {}, {}\n",
    "    with codecs.open(path, 'r') as fp:\n",
    "        # skip the very first '%'\n",
    "        fp.readline()\n",
    "        # read the data (first the categories and their indices, then the words)\n",
    "        for line in fp:\n",
    "            if line.strip() == '%':\n",
    "                reading_words = True\n",
    "            \n",
    "            if reading_words:\n",
    "                l = line.strip().split('\\t')\n",
    "                try:\n",
    "                    word, cats = l[0], [int(v) for v in l[1:]]\n",
    "                    # clear out the asterisk if there is one\n",
    "                    if word[-1] == '*':\n",
    "                        word = word[:-1]\n",
    "                except ValueError:\n",
    "                    continue\n",
    "                # add it to the dict\n",
    "                words[word] = cats\n",
    "            else:\n",
    "                ix, cat = line.strip().split()\n",
    "                categories[int(ix)] = cat\n",
    "    return categories, words\n",
    "\n",
    "def process_text_with_liwc(text, words, subcats=[]):\n",
    "    topics = []\n",
    "    for token in text:\n",
    "        token_topics = words.get(token, [])\n",
    "        topics.extend(token_topics)\n",
    "    if len(subcats) > 0:\n",
    "        topics = [t for t in topics if t in subcats]\n",
    "    return topics"
   ]
  },
  {
   "cell_type": "code",
   "execution_count": 3,
   "metadata": {
    "collapsed": true
   },
   "outputs": [],
   "source": [
    "categories, words = read_liwc()"
   ]
  },
  {
   "cell_type": "code",
   "execution_count": 4,
   "metadata": {
    "collapsed": true
   },
   "outputs": [],
   "source": [
    "train_classes = pd.DataFrame.from_csv('data/classes/train_classes.txt')\n",
    "dev_classes = pd.DataFrame.from_csv('data/classes/dev_classes.txt')\n",
    "sample_classes = pd.DataFrame.from_csv('data/classes/sample_classes.txt')"
   ]
  },
  {
   "cell_type": "code",
   "execution_count": 6,
   "metadata": {
    "collapsed": true
   },
   "outputs": [],
   "source": [
    "df = load_tokens('./data/tokens/lemmas.txt')\n",
    "df.replace(np.nan, '', regex=True)\n",
    "df['text_features'] = df[['title', 'doc']].astype(str).apply(lambda x: ' '.join(x), axis=1)"
   ]
  },
  {
   "cell_type": "code",
   "execution_count": 7,
   "metadata": {
    "collapsed": true
   },
   "outputs": [],
   "source": [
    "df['topics'] = df.text_features.astype(str).str.split().apply(lambda x: process_text_with_liwc(x, words))"
   ]
  },
  {
   "cell_type": "code",
   "execution_count": 8,
   "metadata": {
    "collapsed": true
   },
   "outputs": [],
   "source": [
    "vect = CountVectorizer(lowercase=False, tokenizer=lambda x: x)"
   ]
  },
  {
   "cell_type": "code",
   "execution_count": 9,
   "metadata": {
    "collapsed": true
   },
   "outputs": [],
   "source": [
    "X = vect.fit_transform(df['topics'])"
   ]
  },
  {
   "cell_type": "code",
   "execution_count": 10,
   "metadata": {
    "collapsed": true
   },
   "outputs": [],
   "source": [
    "vectorized = pd.DataFrame(X.todense(), columns=vect.get_feature_names())"
   ]
  },
  {
   "cell_type": "code",
   "execution_count": 11,
   "metadata": {
    "collapsed": true
   },
   "outputs": [],
   "source": [
    "df = pd.concat([df, vectorized], axis=1)"
   ]
  },
  {
   "cell_type": "code",
   "execution_count": 13,
   "metadata": {
    "collapsed": true
   },
   "outputs": [],
   "source": [
    "for col in ['title', 'doc', 'topics']:\n",
    "    df = df.drop(col, 1)"
   ]
  },
  {
   "cell_type": "code",
   "execution_count": 155,
   "metadata": {
    "collapsed": true
   },
   "outputs": [],
   "source": [
    "from sklearn.ensemble import RandomForestClassifier\n",
    "from sklearn.metrics import roc_curve, accuracy_score, roc_auc_score, f1_score\n",
    "\n",
    "import matplotlib.pyplot as plt\n",
    "import seaborn as sns"
   ]
  },
  {
   "cell_type": "code",
   "execution_count": 19,
   "metadata": {
    "collapsed": true
   },
   "outputs": [],
   "source": [
    "sent1 = pd.DataFrame.from_csv('data/features/sentiment_all.csv')\n",
    "read1 = pd.DataFrame.from_csv('data/features/readability1.csv')\n",
    "read2 = pd.DataFrame.from_csv('data/features/readability2.csv')\n",
    "times = pd.DataFrame.from_csv('data/features/timing.csv')\n",
    "\n",
    "df = df\\\n",
    "    .merge(sent1[['post_id', 'text_sentiment', 'title_sentiment']], on='post_id')\\\n",
    "    .merge(read1[['post_id', 'text_smog', 'text_readability', 'title_readability']], on='post_id')\\\n",
    "    .merge(read2[['post_id', 'title_smog']], on='post_id')\\\n",
    "    .merge(times[['post_id', 'night_post', 'time_since_last_post']])\n",
    "\n",
    "#X_train = df.merge(train_classes, on='post_id').drop('text_features', 1).drop('post_id', 1).drop('class', 1).as_matrix()\n",
    "#X_test = df.merge(dev_classes, on='post_id').drop('text_features', 1).drop('post_id', 1).drop('class', 1).as_matrix()"
   ]
  },
  {
   "cell_type": "code",
   "execution_count": 83,
   "metadata": {},
   "outputs": [
    {
     "data": {
      "text/plain": [
       "(207206, 72)"
      ]
     },
     "execution_count": 83,
     "metadata": {},
     "output_type": "execute_result"
    }
   ],
   "source": [
    "X_test.shape"
   ]
  },
  {
   "cell_type": "code",
   "execution_count": 84,
   "metadata": {},
   "outputs": [
    {
     "data": {
      "text/plain": [
       "(1721484, 72)"
      ]
     },
     "execution_count": 84,
     "metadata": {},
     "output_type": "execute_result"
    }
   ],
   "source": [
    "X_train.shape"
   ]
  },
  {
   "cell_type": "code",
   "execution_count": 85,
   "metadata": {
    "collapsed": true
   },
   "outputs": [],
   "source": [
    "y_train = df_final.merge(train_classes, on='post_id')['class'].as_matrix()\n",
    "y_test = df_final.merge(dev_classes, on='post_id')['class'].as_matrix()"
   ]
  },
  {
   "cell_type": "code",
   "execution_count": 114,
   "metadata": {
    "collapsed": true
   },
   "outputs": [],
   "source": [
    "X_train[np.isnan(X_train)] = 100000.\n",
    "X_test[np.isnan(X_test)] = 100000."
   ]
  },
  {
   "cell_type": "code",
   "execution_count": 128,
   "metadata": {
    "collapsed": true
   },
   "outputs": [],
   "source": [
    "clf = RandomForestClassifier(n_estimators=50, max_depth=30, n_jobs=6)"
   ]
  },
  {
   "cell_type": "code",
   "execution_count": 129,
   "metadata": {},
   "outputs": [
    {
     "data": {
      "text/plain": [
       "RandomForestClassifier(bootstrap=True, class_weight=None, criterion='gini',\n",
       "            max_depth=30, max_features='auto', max_leaf_nodes=None,\n",
       "            min_impurity_split=1e-07, min_samples_leaf=1,\n",
       "            min_samples_split=2, min_weight_fraction_leaf=0.0,\n",
       "            n_estimators=50, n_jobs=6, oob_score=False, random_state=None,\n",
       "            verbose=0, warm_start=False)"
      ]
     },
     "execution_count": 129,
     "metadata": {},
     "output_type": "execute_result"
    }
   ],
   "source": [
    "clf.fit(X_train, y_train)"
   ]
  },
  {
   "cell_type": "code",
   "execution_count": 144,
   "metadata": {},
   "outputs": [
    {
     "name": "stdout",
     "output_type": "stream",
     "text": [
      "Accuracy: 0.737637906238\n",
      "AUC: 0.667944717438\n",
      "F1 Score: 0.844640300414\n"
     ]
    },
    {
     "data": {
      "image/png": "[encoded data removed]",
      "text/plain": [
       "<matplotlib.figure.Figure at 0x7f0e17f91750>"
      ]
     },
     "metadata": {},
     "output_type": "display_data"
    }
   ],
   "source": [
    "labels = clf.predict_proba(X_test)\n",
    "\n",
    "print 'Accuracy:', accuracy_score(y_test, np.argmax(labels, axis=1))\n",
    "\n",
    "fpr, tpr, thresholds = roc_curve(y_test, labels[:, 1])\n",
    "\n",
    "plt.plot(fpr, tpr)\n",
    "plt.title('ROC Curve')\n",
    "plt.xlabel('FPR')\n",
    "plt.ylabel('TPR')\n",
    "plt.xlim(0, 1)\n",
    "plt.ylim(0, 1)\n",
    "plt.plot([0, 1], [0, 1], 'k--')\n",
    "\n",
    "print 'AUC:', roc_auc_score(y_test, labels[:, 1])\n",
    "print 'F1 Score:', f1_score(y_test, np.argmax(labels, axis=1))"
   ]
  }
 ],
 "metadata": {
  "kernelspec": {
   "display_name": "Python 2",
   "language": "python",
   "name": "python2"
  },
  "language_info": {
   "codemirror_mode": {
    "name": "ipython",
    "version": 2
   },
   "file_extension": ".py",
   "mimetype": "text/x-python",
   "name": "python",
   "nbconvert_exporter": "python",
   "pygments_lexer": "ipython2",
   "version": "2.7.12"
  }
 },
 "nbformat": 4,
 "nbformat_minor": 2
}
