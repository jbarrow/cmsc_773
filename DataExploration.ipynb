{
 "cells": [
  {
   "cell_type": "code",
   "execution_count": 1,
   "metadata": {
    "collapsed": true
   },
   "outputs": [],
   "source": [
    "%matplotlib inline"
   ]
  },
  {
   "cell_type": "code",
   "execution_count": 19,
   "metadata": {
    "collapsed": false
   },
   "outputs": [],
   "source": [
    "from collections import Counter\n",
    "from clpsych import read_data\n",
    "from spacy.en import English\n",
    "\n",
    "from clpsych import store\n",
    "\n",
    "import matplotlib.pyplot as plt\n",
    "import pandas as pd"
   ]
  },
  {
   "cell_type": "markdown",
   "metadata": {},
   "source": [
    "# Dealing with our custom dataframe"
   ]
  },
  {
   "cell_type": "markdown",
   "metadata": {},
   "source": [
    "Load store.  Update paths here as needed depending on where your data is"
   ]
  },
  {
   "cell_type": "code",
   "execution_count": 20,
   "metadata": {
    "collapsed": false
   },
   "outputs": [
    {
     "name": "stdout",
     "output_type": "stream",
     "text": [
      "Populating data, this may take some time...\n",
      "Reading data from disk...\n",
      "Reading indices...\n"
     ]
    }
   ],
   "source": [
    "config = {\n",
    "    'mask': './**/**/*.posts',\n",
    "    'train_mask': './**/**/TRAIN.txt',\n",
    "    'test_mask': './**/**/TEST.txt',\n",
    "    'dev_mask': './**/**/DEV.txt',\n",
    "    'parse': False\n",
    "}\n",
    "\n",
    "store = store.Store('data.h5', config=config)"
   ]
  },
  {
   "cell_type": "markdown",
   "metadata": {},
   "source": [
    "Create a new feature.  Just like Pandas (assign is Pandas specific)"
   ]
  },
  {
   "cell_type": "code",
   "execution_count": null,
   "metadata": {
    "collapsed": false
   },
   "outputs": [],
   "source": [
    "length = store.data\n",
    "length = length.assign(post_length = lambda x: x.text.str.len())"
   ]
  },
  {
   "cell_type": "markdown",
   "metadata": {},
   "source": [
    "Save your features"
   ]
  },
  {
   "cell_type": "code",
   "execution_count": null,
   "metadata": {
    "collapsed": true
   },
   "outputs": [],
   "source": [
    "store.create_document_feature('length', length[['post_id', 'post_length']])"
   ]
  },
  {
   "cell_type": "code",
   "execution_count": null,
   "metadata": {
    "collapsed": false
   },
   "outputs": [],
   "source": [
    "store.documents"
   ]
  },
  {
   "cell_type": "markdown",
   "metadata": {},
   "source": [
    "# Data Exploration\n",
    "\n",
    "The purpose of this document is to go over the basics of how to do the data exploration for the CMSC 773 project.\n",
    "\n",
    "## Read in the Data\n",
    "\n",
    "First step is to read in the data. I'm putting all the code in the `/clpsych` directory, so we can build out a small library of useful functions. The data is read into a pandas dataframe, and relies on masks to select which subsets of the data you want to read.\n",
    "\n",
    "It should be relatively straightforward to use the masks:\n",
    "- `./controls/suicidewatch_controls/*.posts` will fetch only the __control__ posts\n",
    "- `./positives/suicidewatch_positives/*.posts` will fetch only the __positive__ posts\n",
    "- `./**/*.posts` will fetch __all__ posts\n",
    "\n",
    "If you only want one, two, etc. posts, you can replace the `*` with a bash regular expression (e.g. `./**/1.posts` or `./**/{1,2,3}.posts`)."
   ]
  },
  {
   "cell_type": "code",
   "execution_count": 3,
   "metadata": {
    "collapsed": false
   },
   "outputs": [],
   "source": [
    "data = read_data(mask='./controls/suicidewatch_controls/*.posts')"
   ]
  },
  {
   "cell_type": "markdown",
   "metadata": {
    "collapsed": false
   },
   "source": [
    "The pandas dataframe has 6 columns: `post_id`, `user_id`, `time`, `subreddit`, `title`, and `text`. You can access any of them with dot notation or dict notation (e.g. `data.post_id` or `data['post_id']`). These return __series__, which can be sliced just like normal Python lists (along with additional methods, such as `data.head(10)` or `data.tail(10)`)."
   ]
  },
  {
   "cell_type": "code",
   "execution_count": 4,
   "metadata": {
    "collapsed": false
   },
   "outputs": [
    {
     "data": {
      "text/plain": [
       "0   2009-10-15 20:25:41\n",
       "1   2010-07-07 23:27:56\n",
       "2   2010-08-31 00:46:32\n",
       "3   2010-09-25 02:35:44\n",
       "4   2010-11-08 22:48:27\n",
       "5   2010-11-12 01:43:17\n",
       "6   2010-11-13 01:58:48\n",
       "7   2010-11-19 20:16:26\n",
       "8   2010-11-20 05:57:37\n",
       "9   2010-12-10 01:22:00\n",
       "Name: time, dtype: datetime64[ns]"
      ]
     },
     "execution_count": 4,
     "metadata": {},
     "output_type": "execute_result"
    }
   ],
   "source": [
    "data.time[:10]"
   ]
  },
  {
   "cell_type": "markdown",
   "metadata": {},
   "source": [
    "## Slicing the Data\n",
    "\n",
    "The biggest advantage of using Pandas to store the data is that you have the ability to run __queries__ over the data. You can probably skip this section if you're familiar with SQL.\n",
    "\n",
    "First, we want to look at Pandas' `groupby()` function (equivalent to SQL's `GROUP BY` query, if you want to further google how it works). For instance, we can group all the posts by the user who made them:"
   ]
  },
  {
   "cell_type": "code",
   "execution_count": 5,
   "metadata": {
    "collapsed": false
   },
   "outputs": [],
   "source": [
    "grouped_posts = data.groupby(['user_id'])"
   ]
  },
  {
   "cell_type": "markdown",
   "metadata": {},
   "source": [
    "And then select all the posts for individual users:"
   ]
  },
  {
   "cell_type": "code",
   "execution_count": 6,
   "metadata": {
    "collapsed": false
   },
   "outputs": [
    {
     "data": {
      "text/html": [
       "<div>\n",
       "<table border=\"1\" class=\"dataframe\">\n",
       "  <thead>\n",
       "    <tr style=\"text-align: right;\">\n",
       "      <th></th>\n",
       "      <th>post_id</th>\n",
       "      <th>user_id</th>\n",
       "      <th>time</th>\n",
       "      <th>subreddit</th>\n",
       "      <th>title</th>\n",
       "      <th>text</th>\n",
       "    </tr>\n",
       "  </thead>\n",
       "  <tbody>\n",
       "    <tr>\n",
       "      <th>0</th>\n",
       "      <td>9ugww</td>\n",
       "      <td>-1</td>\n",
       "      <td>2009-10-15 20:25:41</td>\n",
       "      <td>reddit.com</td>\n",
       "      <td>Did Gizmodo Fail???</td>\n",
       "      <td></td>\n",
       "    </tr>\n",
       "    <tr>\n",
       "      <th>1</th>\n",
       "      <td>cn2o4</td>\n",
       "      <td>-1</td>\n",
       "      <td>2010-07-07 23:27:56</td>\n",
       "      <td>news</td>\n",
       "      <td>US Coast Guard Helicopter Crash: 3 Dead, 1 Inj...</td>\n",
       "      <td></td>\n",
       "    </tr>\n",
       "    <tr>\n",
       "      <th>2</th>\n",
       "      <td>d7hh9</td>\n",
       "      <td>-1</td>\n",
       "      <td>2010-08-31 00:46:32</td>\n",
       "      <td>reloading</td>\n",
       "      <td>Dimples on shoulder of brass</td>\n",
       "      <td>I have been reloading for a while, but recentl...</td>\n",
       "    </tr>\n",
       "    <tr>\n",
       "      <th>3</th>\n",
       "      <td>diln8</td>\n",
       "      <td>-1</td>\n",
       "      <td>2010-09-25 02:35:44</td>\n",
       "      <td>DIY</td>\n",
       "      <td>I have an old 9 inch Netbook that is running L...</td>\n",
       "      <td>Just wanted to see if anyone had any ideas. I ...</td>\n",
       "    </tr>\n",
       "    <tr>\n",
       "      <th>4</th>\n",
       "      <td>e35cw</td>\n",
       "      <td>-1</td>\n",
       "      <td>2010-11-08 22:48:27</td>\n",
       "      <td>learnprogramming</td>\n",
       "      <td>Need help finding the free ebook on beginning ...</td>\n",
       "      <td>I've been searching for days and could not fin...</td>\n",
       "    </tr>\n",
       "  </tbody>\n",
       "</table>\n",
       "</div>"
      ],
      "text/plain": [
       "  post_id  user_id                time         subreddit  \\\n",
       "0   9ugww       -1 2009-10-15 20:25:41        reddit.com   \n",
       "1   cn2o4       -1 2010-07-07 23:27:56              news   \n",
       "2   d7hh9       -1 2010-08-31 00:46:32         reloading   \n",
       "3   diln8       -1 2010-09-25 02:35:44               DIY   \n",
       "4   e35cw       -1 2010-11-08 22:48:27  learnprogramming   \n",
       "\n",
       "                                               title  \\\n",
       "0                                Did Gizmodo Fail???   \n",
       "1  US Coast Guard Helicopter Crash: 3 Dead, 1 Inj...   \n",
       "2                       Dimples on shoulder of brass   \n",
       "3  I have an old 9 inch Netbook that is running L...   \n",
       "4  Need help finding the free ebook on beginning ...   \n",
       "\n",
       "                                                text  \n",
       "0                                                     \n",
       "1                                                     \n",
       "2  I have been reloading for a while, but recentl...  \n",
       "3  Just wanted to see if anyone had any ideas. I ...  \n",
       "4  I've been searching for days and could not fin...  "
      ]
     },
     "execution_count": 6,
     "metadata": {},
     "output_type": "execute_result"
    }
   ],
   "source": [
    "grouped_posts.get_group(-1).head(5)"
   ]
  },
  {
   "cell_type": "markdown",
   "metadata": {},
   "source": [
    "You can even group by multiple keys, if you wanted to get all the posts for each user in each specific subreddit:"
   ]
  },
  {
   "cell_type": "code",
   "execution_count": 7,
   "metadata": {
    "collapsed": false
   },
   "outputs": [
    {
     "data": {
      "text/html": [
       "<div>\n",
       "<table border=\"1\" class=\"dataframe\">\n",
       "  <thead>\n",
       "    <tr style=\"text-align: right;\">\n",
       "      <th></th>\n",
       "      <th>post_id</th>\n",
       "      <th>user_id</th>\n",
       "      <th>time</th>\n",
       "      <th>subreddit</th>\n",
       "      <th>title</th>\n",
       "      <th>text</th>\n",
       "    </tr>\n",
       "  </thead>\n",
       "  <tbody>\n",
       "    <tr>\n",
       "      <th>3</th>\n",
       "      <td>diln8</td>\n",
       "      <td>-1</td>\n",
       "      <td>2010-09-25 02:35:44</td>\n",
       "      <td>DIY</td>\n",
       "      <td>I have an old 9 inch Netbook that is running L...</td>\n",
       "      <td>Just wanted to see if anyone had any ideas. I ...</td>\n",
       "    </tr>\n",
       "    <tr>\n",
       "      <th>6</th>\n",
       "      <td>e5f4n</td>\n",
       "      <td>-1</td>\n",
       "      <td>2010-11-13 01:58:48</td>\n",
       "      <td>DIY</td>\n",
       "      <td>Going to attempt to install wood stove insert ...</td>\n",
       "      <td>The family and I have been burning wood for th...</td>\n",
       "    </tr>\n",
       "    <tr>\n",
       "      <th>20</th>\n",
       "      <td>mtr40</td>\n",
       "      <td>-1</td>\n",
       "      <td>2011-11-29 20:38:49</td>\n",
       "      <td>DIY</td>\n",
       "      <td>Finding an Electrical Short in Home</td>\n",
       "      <td>Wondering how I would go about finding an elec...</td>\n",
       "    </tr>\n",
       "  </tbody>\n",
       "</table>\n",
       "</div>"
      ],
      "text/plain": [
       "   post_id  user_id                time subreddit  \\\n",
       "3    diln8       -1 2010-09-25 02:35:44       DIY   \n",
       "6    e5f4n       -1 2010-11-13 01:58:48       DIY   \n",
       "20   mtr40       -1 2011-11-29 20:38:49       DIY   \n",
       "\n",
       "                                                title  \\\n",
       "3   I have an old 9 inch Netbook that is running L...   \n",
       "6   Going to attempt to install wood stove insert ...   \n",
       "20                Finding an Electrical Short in Home   \n",
       "\n",
       "                                                 text  \n",
       "3   Just wanted to see if anyone had any ideas. I ...  \n",
       "6   The family and I have been burning wood for th...  \n",
       "20  Wondering how I would go about finding an elec...  "
      ]
     },
     "execution_count": 7,
     "metadata": {},
     "output_type": "execute_result"
    }
   ],
   "source": [
    "doubly_grouped_posts = data.groupby(['user_id', 'subreddit'])\n",
    "doubly_grouped_posts.get_group((-1, 'DIY'))"
   ]
  },
  {
   "cell_type": "markdown",
   "metadata": {},
   "source": [
    "Of course, you don't necessarily have to know the groups (e.g. user_ids, subreddits, etc) to call them. You can programmatically get them all with the nifty `.groups` attribute. Note that this returns a python `dict`, where each key is the unique group. Since that's all we're really interested in, we can just call `.keys()` to get a list of the keys."
   ]
  },
  {
   "cell_type": "code",
   "execution_count": 8,
   "metadata": {
    "collapsed": false
   },
   "outputs": [
    {
     "data": {
      "text/plain": [
       "[(-51166, 'DoesAnybodyElse'),\n",
       " (-54897, 'pics'),\n",
       " (-24494, 'gameofthrones'),\n",
       " (-34391, 'funny'),\n",
       " (-28129, 'beer')]"
      ]
     },
     "execution_count": 8,
     "metadata": {},
     "output_type": "execute_result"
    }
   ],
   "source": [
    "doubly_grouped_posts.groups.keys()[:5]"
   ]
  },
  {
   "cell_type": "markdown",
   "metadata": {},
   "source": [
    "This feature of Pandas allows us to quickly and flexibly slice the data up any way we want, and get information about each user's posts. If you're really interested in the power of groupby, you should take a look at Pandas' split-apply-combine tutorial. (http://pandas.pydata.org/pandas-docs/stable/groupby.html)\n",
    "\n",
    "## NLP and Feature Extraction\n",
    "\n",
    "Now we get to the interesting part of this guide: how to do feature extraction. I think each feature presents a unique puzzle, so I'm not going to actually extract (m)any, but I will cover the basic setup.\n",
    "\n",
    "The first step is to set up SpaCy's parser and process all the texts. __Note__: I'm not concerned with the post titles right now, though in reality we should be (as many of the posts don't actually have texts).\n",
    "\n",
    "Admittedly, there is a little bit of magic in the `.str.decode('utf-8')`, but that's only Spacy requires the data to be in Unicode format. Here we're only looking at the first 100 documents, if you remove the `[:100]`, you'll process all of them. __Warning:__ That would take a lot of time. I recommend *not* doing it in iPython, but rather a proper Python interpreter."
   ]
  },
  {
   "cell_type": "code",
   "execution_count": 9,
   "metadata": {
    "collapsed": false
   },
   "outputs": [],
   "source": [
    "nlp = English()"
   ]
  },
  {
   "cell_type": "code",
   "execution_count": 10,
   "metadata": {
    "collapsed": false
   },
   "outputs": [],
   "source": [
    "# convert the data to unicode\n",
    "unicode_posts = data['text'][:100].str.decode('utf-8')\n",
    "# process the 100 documents across 3 different threads\n",
    "processed = nlp.pipe(unicode_posts, batch_size=1000, n_threads=3)\n",
    "# get all the docs that have have any text\n",
    "docs = [doc for doc in processed if len(doc) > 0]"
   ]
  },
  {
   "cell_type": "markdown",
   "metadata": {},
   "source": [
    "Now we can get some useful information from SpaCy, such as the part-of-speech tag, the lemmatized form, the dependency parse, and the type of dependency arc. All of the token attributes can be found in the SpaCy documentation for Token. (https://spacy.io/docs/api/token)"
   ]
  },
  {
   "cell_type": "code",
   "execution_count": 43,
   "metadata": {
    "collapsed": false
   },
   "outputs": [
    {
     "name": "stdout",
     "output_type": "stream",
     "text": [
      "4\n",
      "[I have been reloading for a while, but recently came across an issue with sizing my 7.62x54r brass., When I send it through the depriming/sizing die, I end up getting dimples on the shoulder., I want to know what causes this and if I will have any issues with reloading the brass with the dimples., Any help would be greatly appreciated!]\n",
      "2\n",
      "[Just wanted to see if anyone had any ideas., I would hate to get rid of the thing since I've had it for so long.]\n",
      "4\n",
      "[I've been searching for days and could not find it., Didn't help that I can't remember the name of the ebook or author., Any help would be greatly appreciated!, Thanks Reddit!]\n",
      "4\n",
      "[The family and I have been burning wood for the past two years now for our primary source of heat., The fireplace works decent for our needs, however, a co-worker had a wood stove insert he took out of his place and gave it to me., I've measure the fireplace and it will fit right in there, however, I'm not sure how to secure it., Any ideas?]\n",
      "3\n",
      "[Just found out we are having a little girl!**Update**Thanks guys!, I knew you all would come through for me!, Now I'm off to go have a little bit of a celebration smoke!]\n",
      "1\n",
      "[Seriously... it is.]\n",
      "3\n",
      "[Trying to get a fellow ENT a job with me and need to spread some good vibes around!, Either way..., you guys RAWK!kthxbai]\n",
      "11\n",
      "[The wife and I are expecting our second child, as you may already know., With that being said, we are doing everything that we have ever wanted to do since this is our last child., We have a nursery set up for the little girl and all of the cool little hand made blankets one could ever want!Recently, my wife has been oogling over a stroller/car seat combo that she spotted at [Babies R' Us.](http://www.toysrus.com/product/index.jsp?productId=3980773&amp;fromRegistryNumber=46088176&amp;product_skn=174804), Now there is nothing more that I would want to do than get my wife this awesome stroller, however, I have already spent the last bit of our money on a 3D Ultrasound., So what I need assistance with is finding an idea to make a few bucks and get her this gift!Here is a little bit about me that will help with idea generation:1., Computer Nerd (Network Engineering)2., DIY Enthusiast3., Self Starter and willing to do any job there is no matter how large or small.4., Have an awesome knack for cutting a straight line into a squiggly one!So let's hear what everyone can come up with let's make this happen!, I have faith you guys can help me out on this one!, Many minds are greater than one!]\n",
      "6\n",
      "[So I just got a new (new to me) trail rig., It's a 1988 Nissan D21 Hardbody 4x4 with the 2.4L in it., After a bit of work in bleeding the clutch system, I can finally get it into gear and moving., It starts on the first crank and seems to be in pretty good mechanical condition., So what can/should I do to my rig to make it a decent trail rig for the Pacific Northwest?, Ideas?]\n",
      "4\n",
      "[My mother was born and raised in Thailand., Sadly, I have never been there., I'm interested in experiencing what they nosh on for snacks out there!, Let's make this chunky kid (me) happy and experience a piece of his mother's home land!]\n",
      "6\n",
      "[Wondering how I would go about finding an electrical short in my house., I have one breaker that keeps popping., I've removed all devices off of that circuit and plugged in a single portable heater and it still pops., I've also tried other devices as well., The breaker itself has also been replaced., Any ideas would be greatly appreciated!]\n",
      "21\n",
      "[I cut the cord roughly a year ago and I haven't looked back..., well, kind of., I have the pleasure of working for a small Cable/Telephone/Internet company., With the purchase of a Slingbox, I was able to setup a cable box at our Central Office that I stream to my home (outside of our service area)., I can watch it via my Boxee Boxes., Works great and no real complaints., Though I know this isn't a setup that everyone can do, here is what I did before then., Hardware:PS3Boxee Box (2x)Apple TV2Desktop PCSoftware/Services:Hulu PlusNetflixPlayOntvtorrents.comAmazon OnDemandI've tried various options for cutting the cord in a legal matter., This has included PlayOn, which I still use to this day., Though there is a lot of great content on PlayOn, I was still missing many of my shows., To get around this, I setup uTorrent to download them., Not the most optimal solution, but it worked., My problem was that I was running into my bandwidth cap from Comcast., For months I fought with them on the cap and got nowhere., Apparently, you have to be a lobbyist to get anything done., That's when I decided that I would check out their commercial services and found that they don't have a bandwidth cap for them!, Next thing I knew I was calling them, and setting up a commercial account., Problem solved!Currently, I now use tvtorrents.com for my show downloads., I also try to use legal means of getting content and have been using Hulu, Crackle and various other apps on the Boxee Box., I still find myself using these services more than the cable box via SlingPlayer (I hate commercials).]\n",
      "6\n",
      "[I have just recently, last night, finished building a silk screen press., I'm slowly learning how to use GIMP, but my artistic abilities are easily trumped by a baboon wearing an apron and holding a paintbrush., My friend has requested a shirt design of a monkey wearing a gas mask., I thought it would be pretty simple to design, however, I ended up with a bunch of circles that resembled an angry bear drinking a cheap beer., I would gladly print additional shirts in exchange for a design or print a shirt with your design specifically for you., Help me LordsofPhotoshop, you're my only hope...]\n",
      "10\n",
      "[I've had a [request](http://www.reddit.com/r/LordsofPhotoshop/comments/nwsse/request_im_looking_for_a_monkey_wearing_a_gas_mask/) up at /r/lordsofphotoshop for a while and have had no takers as the sub-reddit seems to be a dead one., I then got a great comment from someone saying I should try here!, So here goes..., Here is the text from my original post as I'm too lazy to re-type it., I have just recently, last night, finished building a silk screen press., I'm slowly learning how to use GIMP, but my artistic abilities are easily trumped by a baboon wearing an apron and holding a paintbrush., My friend has requested a shirt design of a monkey wearing a gas mask., I thought it would be pretty simple to design, however, I ended up with a bunch of circles that resembled an angry bear drinking a cheap beer., I would gladly print additional shirts in exchange for a design or print a shirt with your design specifically for you., Help me LordsofPhotoshop, you're my only hope...]\n",
      "6\n",
      "[Never thought I would make it this far!, I've tried many different ways to quit., From patches to gum and lozenges and even medication., Finally, 'Cold Turkey' seems to be the best solution for me., I take it 24 hours at a time., I'm not looking at the larger goals, but the small ones ahead of me!]\n",
      "2\n",
      "[Hey fellow ETNS! I need assistance in finding a nice glass bubbler that won't cost me a fortune., Any good sites out there for decent glass at a decent price?]\n",
      "3\n",
      "[I've had enough of the smoked salmon and Tim's Cascade chips!, It's time for something new!, If you are interested in a simple $20-$30 trade, let me know!]\n",
      "7\n",
      "[Okay, so I'm sure this subreddit gets these kinds of posts often, but I just wanted an opinion on the placement of a tattoo I'm looking to get., Essentially, I am going to be getting a quote, probably two-three lines and not super huge somewhere on my body., At the moment, I have two sparrow tattoos, one on each shoulder blade and a ribbon tattoo on the side of my left wrist., I'm just looking for suggestions for a unique place to put the quote that is not too visible in normal dress (looking to go into quite a professional field)., One of my fears when I first started getting tattoos is that as I added more, they would be \"too random\", so I want to stray from that, and wondered if anyone had any opinions., Thanks!]\n",
      "5\n",
      "[Hey everyone,, So I just gave a crack at restringing my ukulele for the first time as I could not wait for a pro to do it., It's now having a lot of difficulty staying in tune for more than a few strums., Does anyone have any advice for me?, I assume I have to restring it, I'm just not sure what I did wrong in the first place.]\n",
      "6\n",
      "[So our question is as follows:You have found the submerged remains of a city at 2m water depth that dates to 200 -250 BC. When surveying the immediate limestone coastline you find a marine notch that you radiocarbon date to 2000-2020 yrs BP which is 1m above present sea-level (and the modern marine notch)., You would say that:a) the area was affected by a tsunamib) flooding caused the sinking of the cityc) a fault likely runs along the coastlined) liquifaction was the main causee) none of these statements are correct, The way that we approached the question is that, since the marine notch is younger than the submerged city, the land was once uniform but an event cause the land with the city to subside and the infilling of water would allow for the formation of the notch, and the modern notch is lower as sea level has gone down a bit., I attributed the scenario to the presence of a fault, but my friend believes that it could be liquifaction, which is a qualifier for the presence of a fault., Our lecture notes denote submergence of large sections of coastline can be attributed to faulting and/or sediment failure, so we're trying to decide if sediment failure is a factor in this scenario., If anyone has any insight into this question, we would really appreciate it!]\n",
      "7\n",
      "[I started washing with coconut oil twice a day, beginning two or three days ago., I have had mixed feelings about it, but my breakouts were getting bad, so I decided to try something radically different., I'm wondering how long I should stick with it to see results?, I have been getting new breakouts in some areas but I'm not sure if this is just hormone related, (I'm PMSing at the moment)., Any insight into your experience would be extremely helpful.]\n",
      "5\n",
      "[So, I went to the doctor's a few months ago and was told that I am mildly anemic., The doctor did not provide me with very good dietary advice for how to meet my iron requirements., Since then, my family has been pressuring me to consider a non-vegetarian diet as they are worried about my health and do not feel that I can adequately meet my iron needs through plant-based sources., I have also felt side effects from the anemia and would like to mitigate these as best as possible., How do you go about incorporating sufficient amounts of iron into your diet?]\n",
      "3\n",
      "[Like the title says, my fellow Masters of Planning students and I will be taking a trip to Boston and New York in February for a school trip., Any recommendations for attractions to see as an urbanist and as students of planning and design?, I'm more interested in hearing about Boston, but suggestions for either would be greatly appreciated.]\n",
      "3\n",
      "[There is a huge emphasis on graphic design as part of my graduate program., I have dabbled a bit, but am not familiar with the basics or fundamentals of design., If there was one book that I could pick up that would helpful in learning, what would you recommend?]\n",
      "4\n",
      "[Just out of curiosity, I was wondering what everyone's experience with film is., I learned a good portion of what I know while shooting film exclusively., But I haven't shot a frame of film in at least five years, and I'm finding myself desiring that experience again., Digial has changed photography so much, I often wonder what I would be like if it never existed.]\n",
      "10\n",
      "[The dreaded \"moiré effect\"., I'm sure I'm not the only one to experience this frustration., You shoot an awesome portrait, then you zoom in and see this psychedelic pattern in you're subjects clothing., I've seen the tutorials on how to fix the problem in post production...., http://www.youtube.com/watch?v=k34s2xpYRm8But, a question for the professionals, and experts:Is there anything you can do with exposure perhaps, to eliminate the problem before you squeeze the trigger?, So you never have the worry of having to fix it in post?, I've had this effect with multiple bodies, using multiple lenses., Not a consistent thing for me, but every once in awhile, it rears its head., Any wisdom is always appreciated.]\n",
      "1\n",
      "[In lieu of the recent events, I have been reflecting on some of RoFo's best quotes, and I must say there are some real gems... Let's hear all of your favorites.http://www.theglobeandmail.com/news/toronto/rob-ford-and-a-decade-of-controversy/article4330595/]\n",
      "6\n",
      "[Need some opinions on who to start at my flex spot this week., I have to chose 1 out of these players:1., G. Bernard2., J. Nelson3., Riley Cooper4., Ray RiceI'm leaning towards nelson still, even without Rodgers, but I still don't know...]\n",
      "5\n",
      "[Who would you take as your stud running back for the rest of the season?, I have ap, but might want to move him for something more solid, while his value is high., Minnesota scares me, and there schedule isn't exactly favorable., Thinking of moving him for charles., Thoughts?]\n",
      "1\n",
      "[Need an opinion on which one is the keeper for ROS.]\n",
      "11\n",
      "[I can't remember a fantasy season ever starting the way this one has., So much under-production from so many big names., Suspensions, injuries, tough matchups, shotty oline play., The possible reasons being almost endless...., 1.AD - SUSPENDED2.Charles - high ankle sprain3.McCoy - matchups/o-line/sproles4.Forte - tough matchups, (minus bills)5.D. Thomas - nearly invisible out there6.Lacy - early injury/matchups7.M. Ball - o-line/matchups8.D. Martin - injuryAnd after week 3 the list keeps growing., These are just the ones most notable to me off the top of my head., I would think some of the owners of these players are getting nervous, especially if there 1-2 or 0-3., To me, you could probably get as close to stealing a few of these guys as you ever might get, and a bunch of them were drafted in the first round., It might be a good time to test the waters., Edit: player list]\n",
      "7\n",
      "[Starters-QB - Stafford-RB1 - Morris-RB2 - Jennings-WR1 - Megatron-WR2 - Cobb-TE - Olsen-FLEX - Djax-K - streaming, dan Bailey currently-DEF - T B DBench- joique bell- Jeremy, hill-, Chris Johnson-, Darren sproles- Larry Fitzgerald- Josh Gordon- Seahawks D/STMy, question:Who do I drop to fill in my empty d/st slot this week?, I'm back and forth over chris johnson and Larry Fitzgerald., Thanks for any input! -]\n",
      "6\n",
      "[Was just countered I send :, Jennings/djax/seahawks, ds/t I get: forte/ridley/kapernickFeedback?, I dont love the deal but I have the guy somewhat interested., Any ideas for counters?, Thanks!]\n",
      "24\n",
      "[Still trying to swing a deal with the forte owner in my league who is still somehow interested in dealing him., He sent me a bullshit counter this am, and I want to know what everyone thinks about the counter im going to send him., I send:1., R., Jennings2., D. Sproles3., Djax4., Seahawks defenseI receive:1., Forte2., Ball3., Wheaton4. Pats defense., What do you guys think?, He recently offered forte/wheaton/ridley for Jennings/sproles/seahawks but I still don't love that deal., I think hes overvaluing the seahawks., Its also worth noting that sproles is sitting at about 68 points so far this season because my league rewards for kr/pr yards, but he's still a flex or bye week fill in my mind at best., Thoughts are appreciated!Update:He sent me a new offer, one I still don't love., My sproles/jennings/seahawks for his forte/ball/roddy white/Wheaton., I countered with..., My Jennings/sproles/seahawks/djax for his forte/leveon bell/Wheaton/patriots., *final update*I accepted the trade, what a rush!, as long as it isn't vetoed... the new lineup is..., -Stafford-Forte-Morris-Megatron-Cobb-Olsen-BallBench:-J. Bell-J. Hill-Roddy-Fitzgerald-Gordon-Djax-WheatonK - Dan BaileyD/ST - Need to drop somebody from my bench to open up a space for streaming defense., I'm thinking Wheaton, or J. Hill., Thoughts?]\n",
      "4\n",
      "[ben tate is a free agent on my ww right now and I'm surprised no one has claimed him..., His news ticker says he resumed practice in full today, and is expected to reclaim the starting job., do you guys think its worth dropping jeremy hill for tate?, Thoughts?Thanks!]\n",
      "11\n",
      "[Hello fellow montee ball owners!I don't want to be here just as much as the rest of you, but nonethless, here we are., Neck deep in what feels like the most confused backfield in the nfl today., Montee is gone for at least a month from what new reports are offering this afternoon, which is pretty much double what they said yesterday., There is no hiding that prior to the injury, ball had looked somewhat inefficient to begin with (albeit behind a line that's not doing a good job getting a push)., We all watch hillman come in after the injury and have a respectable statline against the same cardinals defense... To further confuse things, late in the game, cue up Juwan Thompson from 8 yards out and a td., All while supposed ball 'handcuff' cj anderson is a healthy scratch...., Who do you target on the ww, if anyone?, I'm worried ball is borderline droppable because of what this injury does to shake up the situation., Do we even know he's guaranteed the lead back role if/when he's healthy again?Too many questions, too many differing opinions., Can anyone shed some real light on any of this?, Because this whole situation has me very confused.]\n",
      "10\n",
      "[Just lost montee ball to injury, and now I'm looking at the WW to try and bolster my rb core., Would you put claims in for any of the following??1., branden oliver2., Andre Williams3., Montee Ball4., CJ Anderson5., Antone Smith6., Pierre ThomasBare in mind, I would probably be dropping either J. Hill or L. Fitzgerald for any of these guys., Any help would be appreciated, my team is posted in an earlier submission., Thanks!]\n",
      "10\n",
      "[I'm getting itchy over here, sitting just barely at 3-2., Helped in large by streaming defense, and solid kicking performances., Owning stafford and megatron is making me very uneasy, especially with Megatron's ankle now being a serious concern., Am I crazy to be trading them away?, I want to package them with al morris, and try to send them to an owner who has andrew luck, and leveon bell., High ankle sprains are so very tricky., Jamaal had one supposedly and looks fine two weeks later..., Roddy white had one last year, and was garbage the entire season., Someone talk me out of it, or encourage me either way., Want to get of the ride.]\n",
      "10\n",
      "[The Andrew Luck deal never took off, but I'm still working on Le'veon Bell......., My friend wants cobb for le'veon straight up., I don't hate the deal, but with megatron likely to miss a week or two, it would put me at odds for WR., Looking to package djax or roddy with cobb, and offer them for bell and edelman, or bell and s. smith., What does everyone think?My team right now:Stafford -Morris -Forte -Megatron -Cobb -Olsen -Djax -m., ball -j., bell -j. hill -roddy, -fitzgerald -Gordon., I'm banking on the fact I could start tron/gordon at WR come playoffs, and flex morris or someone else., Thanks again!edit: players]\n",
      "2\n",
      "[Per Matthew berry., Lets go greg!]\n",
      "24\n",
      "[Getting anxious, now at 3-3., 8 teams make the playoffs in a 10 man league (I know, right?), but Stafford and tron are killing me., I've gone 1-2 since his injury, and the next 3 weeks are really make or break., I feel good about weeks 10-13, but I NEED to get to at least 7-6 to make the playoffs I think in this league., That means I need to win at least 4 out of the next 7 and as I said, tron and Stafford aren't helping me get there., What does everyone think of this trade??I send:1., Stafford2., Megatron3., Greg Olsen4., Montee ball, (other owner owns hillman)5., DjaxI receive:1., Drew brees2., Jordy3., Jimmy GrahamThoughts?This owner is hurting at rb, currently only rostering spiller, trich, and hillman., I don't really want to give up a rb depth other than ball, but I think I may be able to sweeten the deal a little if anyone has suggestions....Rest of my roster:1., FORTE2., ALmo3., Cobb4., Landry (league scores kr/pr yards)5., J. Bell6., I. Crowell7., Jeremy hill8, . GordonThanks]\n",
      "17\n",
      "[Firstly, does anyone have any new information on this guy?, When he was hurt it was reported he would possibly be available by week 9, but beyond that, there wasn't much of a timetable., Is he even expected to return to practice this week??, We've all discussed our theories of if/how he'll be used upon his return to health, but that's if/when he returns., I personally have a bad feeling about his injury., No one has said a thing about his progress since it happened., Groin injuries can take a long time to heal if there severe enough., Adrian Peterson's season was limited last year initially due to a groin injury, and I hope its not the same situation for ball., All speculation of course., I'd been stashing him since week 5, but dropped him sunday so I could pickup someone to give me a chance to win., If I want, I know I can nab him up again off the ww because I have a high priority, but if he can't play this week I would end up doing the same thing on Sunday, so I can field a team., As it stands, I think im just going to have to leave him be, and see him scooped by another team that has room for the stash., Between josh Gordon and bye weeks, I have 6 players that I cant use this coming weekend., So, my apparent divorce from Ball is simply a move to try and stay alive this week., If I had the room, I'd be willing to hold, but I'm not fielding an incomplete team just to carry his ass another week., I hate that it had to come to this, but it was him or Gordon.]\n",
      "5\n",
      "[I don't get this one., He's not looked himself at times, and laid an egg in his last primetime game, and that was a home game..., Can we really starts him with any confidence this week?, Philly D made eli and the giants look foolish a few weeks back, that game keeps coming to mind when thinking about cam in Philadelphia, under the lights., What's everyone doing?]\n",
      "2\n",
      "[Remember to give our old friend the kind of welcome he deserves., Fuck you, donte.]\n",
      "6\n",
      "[So what's everyone doing with Olsen this week?, First week of most people's playoffs, need a respectable outing from a TE, and Olsen has been on a slide for the past little while., I think its been like 7 weeks since he scored., He has a bad matchup, as NO allows the second least points to TE's., Also, the last time these two teams met he was relatively contained, only getting 3 points in that contest., I don't know if I can just blindly start him, would love to hear what everyone thinks.]\n"
     ]
    }
   ],
   "source": [
    "# i'm using a dataframe just so it prints nicely; you don't have to do this part\n",
    "doc_data = []\n",
    "for index, doc in enumerate(docs):\n",
    "    print len(list(docs[index].sents))\n",
    "    print list(docs[index].sents)\n",
    "    for i, sent in enumerate(docs[index].sents):\n",
    "        #print len(sent.string.split())\n",
    "        \n",
    "        for tok in sent:\n",
    "            doc_data.append([i, tok, tok.lemma_, tok.head, tok.pos_, tok.dep_])\n",
    "\n",
    "single_doc = pd.DataFrame(doc_data, columns=['sentence', 'token', 'lemma', 'head', 'pos', 'dependency'])"
   ]
  },
  {
   "cell_type": "code",
   "execution_count": 34,
   "metadata": {
    "collapsed": false
   },
   "outputs": [
    {
     "data": {
      "text/plain": [
       "4"
      ]
     },
     "execution_count": 34,
     "metadata": {},
     "output_type": "execute_result"
    }
   ],
   "source": [
    "strz = \"hello my name is\"\n",
    "len(strz.split())"
   ]
  },
  {
   "cell_type": "markdown",
   "metadata": {},
   "source": [
    "From data like this, we could find all the passive voice (nsubjpass) and active voice (nsubj) in a document, all the pronouns with lemmas such as i, me, we, etc., and common lemmatized words."
   ]
  },
  {
   "cell_type": "markdown",
   "metadata": {},
   "source": [
    "## Visualization\n",
    "\n",
    "Below is a very simple histogram of the depenency arcs used in one document above. Pandas has powerful visualization tools built into the dataframes. To plot the histogram of string keys, however, note that we had to create a python counter from the parts of speech keys, and then convert that counter object to a DataFrame.\n",
    "\n",
    "These visualizations will likely be the crux of our write-up, so it's worth taking time to think about the proper way to graph something. Matplotlib (the charting library pandas relies on) can also be used by itself using just the `plt` package imported above. It has support for bar graphs, line graphs, histograms, scatter plots, etc. The matplotlib gallery is certainly worth perusing to get an idea of the power of the library. (http://matplotlib.org/gallery.html)"
   ]
  },
  {
   "cell_type": "code",
   "execution_count": 12,
   "metadata": {
    "collapsed": false
   },
   "outputs": [
    {
     "data": {
      "text/plain": [
       "<matplotlib.axes._subplots.AxesSubplot at 0x1296eda90>"
      ]
     },
     "execution_count": 12,
     "metadata": {},
     "output_type": "execute_result"
    },
    {
     "data": {
      "image/png": "[encoded data removed]",
      "text/plain": [
       "<matplotlib.figure.Figure at 0x1296ed0d0>"
      ]
     },
     "metadata": {},
     "output_type": "display_data"
    }
   ],
   "source": [
    "cntr = Counter(single_doc.dependency)\n",
    "pd.DataFrame.from_dict(cntr, orient='index').plot(kind='bar')"
   ]
  },
  {
   "cell_type": "markdown",
   "metadata": {},
   "source": [
    "## Next Steps\n",
    "\n",
    "The next steps are the actual data exploration. There are key questions that need answering before we can formally embark on the data exploration, such as: what form should the output for each feature take, how do we get that output into our mixture models in R, etc. But take the time to play around with pandas and try and explore some of the features yourself!"
   ]
  }
 ],
 "metadata": {
  "anaconda-cloud": {},
  "kernelspec": {
   "display_name": "Python [default]",
   "language": "python",
   "name": "python2"
  },
  "language_info": {
   "codemirror_mode": {
    "name": "ipython",
    "version": 2
   },
   "file_extension": ".py",
   "mimetype": "text/x-python",
   "name": "python",
   "nbconvert_exporter": "python",
   "pygments_lexer": "ipython2",
   "version": "2.7.12"
  }
 },
 "nbformat": 4,
 "nbformat_minor": 2
}
