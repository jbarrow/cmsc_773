{
 "cells": [
  {
   "cell_type": "code",
   "execution_count": 1,
   "metadata": {
    "collapsed": true
   },
   "outputs": [],
   "source": [
    "%matplotlib inline"
   ]
  },
  {
   "cell_type": "code",
   "execution_count": 2,
   "metadata": {
    "collapsed": false
   },
   "outputs": [],
   "source": [
    "from collections import Counter\n",
    "from clpsych import read_data, store\n",
    "from spacy.en import English\n",
    "\n",
    "import random\n",
    "import matplotlib.pyplot as plt\n",
    "import seaborn as sns\n",
    "import pandas as pd\n",
    "import numpy as np"
   ]
  },
  {
   "cell_type": "markdown",
   "metadata": {},
   "source": [
    "# Data Exploration\n",
    "\n",
    "The purpose of this document is to go over the basics of how to do the data exploration for the CMSC 773 project.\n",
    "\n",
    "## Read in the Data\n",
    "\n",
    "First step is to read in the data. I'm putting all the code in the `/clpsych` directory, so we can build out a small library of useful functions. The data is read into a pandas dataframe, and relies on masks to select which subsets of the data you want to read.\n",
    "\n",
    "It should be relatively straightforward to use the masks:\n",
    "- `./controls/suicidewatch_controls/*.posts` will fetch only the __control__ posts\n",
    "- `./positives/suicidewatch_positives/*.posts` will fetch only the __positive__ posts\n",
    "- `./**/*.posts` will fetch __all__ posts\n",
    "\n",
    "If you only want one, two, etc. posts, you can replace the `*` with a bash regular expression (e.g. `./**/1.posts` or `./**/{1,2,3}.posts`)."
   ]
  },
  {
   "cell_type": "code",
   "execution_count": 3,
   "metadata": {
    "collapsed": false
   },
   "outputs": [
    {
     "name": "stdout",
     "output_type": "stream",
     "text": [
      "Populating data, this may take some time...\n",
      "Reading data from disk...\n",
      "Reading indices...\n"
     ]
    }
   ],
   "source": [
    "config = {\n",
    "    'mask': './**/**/*.posts',\n",
    "    'train_mask': './**/**/TRAIN.txt',\n",
    "    'test_mask': './**/**/TEST.txt',\n",
    "    'dev_mask': './**/**/DEV.txt',\n",
    "    'sample_mask': './SAMPLE.txt',\n",
    "    'parse': False\n",
    "}\n",
    "\n",
    "load = store.Store('data.h5', config=config, overwrite=True)\n",
    "data = load.data\n",
    "\n",
    "#data = read_data(mask='./controls/suicidewatch_controls/*.posts')"
   ]
  },
  {
   "cell_type": "markdown",
   "metadata": {
    "collapsed": false
   },
   "source": [
    "The pandas dataframe has 6 columns: `post_id`, `user_id`, `time`, `subreddit`, `title`, and `text`. You can access any of them with dot notation or dict notation (e.g. `data.post_id` or `data['post_id']`). These return __series__, which can be sliced just like normal Python lists (along with additional methods, such as `data.head(10)` or `data.tail(10)`)."
   ]
  },
  {
   "cell_type": "code",
   "execution_count": 4,
   "metadata": {
    "collapsed": false
   },
   "outputs": [
    {
     "data": {
      "text/plain": [
       "0   2009-10-15 20:25:41\n",
       "1   2010-07-07 23:27:56\n",
       "2   2010-08-31 00:46:32\n",
       "3   2010-09-25 02:35:44\n",
       "4   2010-11-08 22:48:27\n",
       "5   2010-11-12 01:43:17\n",
       "6   2010-11-13 01:58:48\n",
       "7   2010-11-19 20:16:26\n",
       "8   2010-11-20 05:57:37\n",
       "9   2010-12-10 01:22:00\n",
       "Name: time, dtype: datetime64[ns]"
      ]
     },
     "execution_count": 4,
     "metadata": {},
     "output_type": "execute_result"
    }
   ],
   "source": [
    "data.time[:10]"
   ]
  },
  {
   "cell_type": "markdown",
   "metadata": {},
   "source": [
    "## Slicing the Data\n",
    "\n",
    "The biggest advantage of using Pandas to store the data is that you have the ability to run __queries__ over the data. You can probably skip this section if you're familiar with SQL.\n",
    "\n",
    "First, we want to look at Pandas' `groupby()` function (equivalent to SQL's `GROUP BY` query, if you want to further google how it works). For instance, we can group all the posts by the user who made them:"
   ]
  },
  {
   "cell_type": "code",
   "execution_count": 5,
   "metadata": {
    "collapsed": false
   },
   "outputs": [],
   "source": [
    "grouped_posts = data.groupby(['user_id'])"
   ]
  },
  {
   "cell_type": "markdown",
   "metadata": {},
   "source": [
    "And then select all the posts for individual users:"
   ]
  },
  {
   "cell_type": "code",
   "execution_count": 6,
   "metadata": {
    "collapsed": false
   },
   "outputs": [
    {
     "data": {
      "text/html": [
       "<div>\n",
       "<table border=\"1\" class=\"dataframe\">\n",
       "  <thead>\n",
       "    <tr style=\"text-align: right;\">\n",
       "      <th></th>\n",
       "      <th>post_id</th>\n",
       "      <th>user_id</th>\n",
       "      <th>time</th>\n",
       "      <th>subreddit</th>\n",
       "      <th>title</th>\n",
       "      <th>text</th>\n",
       "    </tr>\n",
       "  </thead>\n",
       "  <tbody>\n",
       "    <tr>\n",
       "      <th>0</th>\n",
       "      <td>9ugww</td>\n",
       "      <td>-1</td>\n",
       "      <td>2009-10-15 20:25:41</td>\n",
       "      <td>reddit.com</td>\n",
       "      <td>Did Gizmodo Fail???</td>\n",
       "      <td></td>\n",
       "    </tr>\n",
       "    <tr>\n",
       "      <th>1</th>\n",
       "      <td>cn2o4</td>\n",
       "      <td>-1</td>\n",
       "      <td>2010-07-07 23:27:56</td>\n",
       "      <td>news</td>\n",
       "      <td>US Coast Guard Helicopter Crash: 3 Dead, 1 Inj...</td>\n",
       "      <td></td>\n",
       "    </tr>\n",
       "    <tr>\n",
       "      <th>2</th>\n",
       "      <td>d7hh9</td>\n",
       "      <td>-1</td>\n",
       "      <td>2010-08-31 00:46:32</td>\n",
       "      <td>reloading</td>\n",
       "      <td>Dimples on shoulder of brass</td>\n",
       "      <td>I have been reloading for a while, but recentl...</td>\n",
       "    </tr>\n",
       "    <tr>\n",
       "      <th>3</th>\n",
       "      <td>diln8</td>\n",
       "      <td>-1</td>\n",
       "      <td>2010-09-25 02:35:44</td>\n",
       "      <td>DIY</td>\n",
       "      <td>I have an old 9 inch Netbook that is running L...</td>\n",
       "      <td>Just wanted to see if anyone had any ideas. I ...</td>\n",
       "    </tr>\n",
       "    <tr>\n",
       "      <th>4</th>\n",
       "      <td>e35cw</td>\n",
       "      <td>-1</td>\n",
       "      <td>2010-11-08 22:48:27</td>\n",
       "      <td>learnprogramming</td>\n",
       "      <td>Need help finding the free ebook on beginning ...</td>\n",
       "      <td>I've been searching for days and could not fin...</td>\n",
       "    </tr>\n",
       "  </tbody>\n",
       "</table>\n",
       "</div>"
      ],
      "text/plain": [
       "  post_id  user_id                time         subreddit  \\\n",
       "0   9ugww       -1 2009-10-15 20:25:41        reddit.com   \n",
       "1   cn2o4       -1 2010-07-07 23:27:56              news   \n",
       "2   d7hh9       -1 2010-08-31 00:46:32         reloading   \n",
       "3   diln8       -1 2010-09-25 02:35:44               DIY   \n",
       "4   e35cw       -1 2010-11-08 22:48:27  learnprogramming   \n",
       "\n",
       "                                               title  \\\n",
       "0                                Did Gizmodo Fail???   \n",
       "1  US Coast Guard Helicopter Crash: 3 Dead, 1 Inj...   \n",
       "2                       Dimples on shoulder of brass   \n",
       "3  I have an old 9 inch Netbook that is running L...   \n",
       "4  Need help finding the free ebook on beginning ...   \n",
       "\n",
       "                                                text  \n",
       "0                                                     \n",
       "1                                                     \n",
       "2  I have been reloading for a while, but recentl...  \n",
       "3  Just wanted to see if anyone had any ideas. I ...  \n",
       "4  I've been searching for days and could not fin...  "
      ]
     },
     "execution_count": 6,
     "metadata": {},
     "output_type": "execute_result"
    }
   ],
   "source": [
    "grouped_posts.get_group(-1).head(5)"
   ]
  },
  {
   "cell_type": "markdown",
   "metadata": {},
   "source": [
    "You can even group by multiple keys, if you wanted to get all the posts for each user in each specific subreddit:"
   ]
  },
  {
   "cell_type": "code",
   "execution_count": 7,
   "metadata": {
    "collapsed": false
   },
   "outputs": [
    {
     "data": {
      "text/html": [
       "<div>\n",
       "<table border=\"1\" class=\"dataframe\">\n",
       "  <thead>\n",
       "    <tr style=\"text-align: right;\">\n",
       "      <th></th>\n",
       "      <th>post_id</th>\n",
       "      <th>user_id</th>\n",
       "      <th>time</th>\n",
       "      <th>subreddit</th>\n",
       "      <th>title</th>\n",
       "      <th>text</th>\n",
       "    </tr>\n",
       "  </thead>\n",
       "  <tbody>\n",
       "    <tr>\n",
       "      <th>3</th>\n",
       "      <td>diln8</td>\n",
       "      <td>-1</td>\n",
       "      <td>2010-09-25 02:35:44</td>\n",
       "      <td>DIY</td>\n",
       "      <td>I have an old 9 inch Netbook that is running L...</td>\n",
       "      <td>Just wanted to see if anyone had any ideas. I ...</td>\n",
       "    </tr>\n",
       "    <tr>\n",
       "      <th>6</th>\n",
       "      <td>e5f4n</td>\n",
       "      <td>-1</td>\n",
       "      <td>2010-11-13 01:58:48</td>\n",
       "      <td>DIY</td>\n",
       "      <td>Going to attempt to install wood stove insert ...</td>\n",
       "      <td>The family and I have been burning wood for th...</td>\n",
       "    </tr>\n",
       "    <tr>\n",
       "      <th>20</th>\n",
       "      <td>mtr40</td>\n",
       "      <td>-1</td>\n",
       "      <td>2011-11-29 20:38:49</td>\n",
       "      <td>DIY</td>\n",
       "      <td>Finding an Electrical Short in Home</td>\n",
       "      <td>Wondering how I would go about finding an elec...</td>\n",
       "    </tr>\n",
       "  </tbody>\n",
       "</table>\n",
       "</div>"
      ],
      "text/plain": [
       "   post_id  user_id                time subreddit  \\\n",
       "3    diln8       -1 2010-09-25 02:35:44       DIY   \n",
       "6    e5f4n       -1 2010-11-13 01:58:48       DIY   \n",
       "20   mtr40       -1 2011-11-29 20:38:49       DIY   \n",
       "\n",
       "                                                title  \\\n",
       "3   I have an old 9 inch Netbook that is running L...   \n",
       "6   Going to attempt to install wood stove insert ...   \n",
       "20                Finding an Electrical Short in Home   \n",
       "\n",
       "                                                 text  \n",
       "3   Just wanted to see if anyone had any ideas. I ...  \n",
       "6   The family and I have been burning wood for th...  \n",
       "20  Wondering how I would go about finding an elec...  "
      ]
     },
     "execution_count": 7,
     "metadata": {},
     "output_type": "execute_result"
    }
   ],
   "source": [
    "doubly_grouped_posts = data.groupby(['user_id', 'subreddit'])\n",
    "doubly_grouped_posts.get_group((-1, 'DIY'))"
   ]
  },
  {
   "cell_type": "markdown",
   "metadata": {},
   "source": [
    "Of course, you don't necessarily have to know the groups (e.g. user_ids, subreddits, etc) to call them. You can programmatically get them all with the nifty `.groups` attribute. Note that this returns a python `dict`, where each key is the unique group. Since that's all we're really interested in, we can just call `.keys()` to get a list of the keys."
   ]
  },
  {
   "cell_type": "code",
   "execution_count": 8,
   "metadata": {
    "collapsed": false
   },
   "outputs": [
    {
     "data": {
      "text/plain": [
       "[(4031, 'amiugly'),\n",
       " (-24494, 'gameofthrones'),\n",
       " (-34391, 'funny'),\n",
       " (-35524, 'Hotchickswithtattoos'),\n",
       " (8877, 'NewMexico')]"
      ]
     },
     "execution_count": 8,
     "metadata": {},
     "output_type": "execute_result"
    }
   ],
   "source": [
    "doubly_grouped_posts.groups.keys()[:5]"
   ]
  },
  {
   "cell_type": "markdown",
   "metadata": {},
   "source": [
    "This feature of Pandas allows us to quickly and flexibly slice the data up any way we want, and get information about each user's posts. If you're really interested in the power of groupby, you should take a look at Pandas' split-apply-combine tutorial. (http://pandas.pydata.org/pandas-docs/stable/groupby.html)\n",
    "\n",
    "## NLP and Feature Extraction\n",
    "\n",
    "Now we get to the interesting part of this guide: how to do feature extraction. I think each feature presents a unique puzzle, so I'm not going to actually extract (m)any, but I will cover the basic setup.\n",
    "\n",
    "The first step is to set up SpaCy's parser and process all the texts. __Note__: I'm not concerned with the post titles right now, though in reality we should be (as many of the posts don't actually have texts).\n",
    "\n",
    "Admittedly, there is a little bit of magic in the `.str.decode('utf-8')`, but that's only Spacy requires the data to be in Unicode format. Here we're only looking at the first 100 documents, if you remove the `[:100]`, you'll process all of them. __Warning:__ That would take a lot of time. I recommend *not* doing it in iPython, but rather a proper Python interpreter."
   ]
  },
  {
   "cell_type": "code",
   "execution_count": 9,
   "metadata": {
    "collapsed": false
   },
   "outputs": [],
   "source": [
    "nlp = English()"
   ]
  },
  {
   "cell_type": "code",
   "execution_count": 10,
   "metadata": {
    "collapsed": false
   },
   "outputs": [
    {
     "name": "stdout",
     "output_type": "stream",
     "text": [
      "CPU times: user 387 ms, sys: 226 ms, total: 613 ms\n",
      "Wall time: 623 ms\n"
     ]
    }
   ],
   "source": [
    "# convert the data to unicode\n",
    "unicode_posts = data['text'][:100].str.decode('utf-8')\n",
    "# process the 100 documents across 3 different threads\n",
    "processed = nlp.pipe(unicode_posts, batch_size=1000, n_threads=3)\n",
    "# get all the docs that have have any text\n",
    "%time docs = [doc for doc in processed if len(doc) > 0]"
   ]
  },
  {
   "cell_type": "markdown",
   "metadata": {},
   "source": [
    "Now we can get some useful information from SpaCy, such as the part-of-speech tag, the lemmatized form, the dependency parse, and the type of dependency arc. All of the token attributes can be found in the SpaCy documentation for Token. (https://spacy.io/docs/api/token)"
   ]
  },
  {
   "cell_type": "code",
   "execution_count": 11,
   "metadata": {
    "collapsed": false
   },
   "outputs": [],
   "source": [
    "# i'm using a dataframe just so it prints nicely; you don't have to do this part\n",
    "doc_data = []\n",
    "for index, doc in enumerate(docs):\n",
    "    for i, sent in enumerate(docs[index].sents):\n",
    "        for tok in sent:\n",
    "            doc_data.append([i, tok, tok.lemma_, tok.head, tok.pos_, tok.dep_])\n",
    "\n",
    "single_doc = pd.DataFrame(doc_data, columns=['sentence', 'token', 'lemma', 'head', 'pos', 'dependency'])"
   ]
  },
  {
   "cell_type": "markdown",
   "metadata": {},
   "source": [
    "From data like this, we could find all the passive voice (nsubjpass) and active voice (nsubj) in a document, all the pronouns with lemmas such as i, me, we, etc., and common lemmatized words."
   ]
  },
  {
   "cell_type": "markdown",
   "metadata": {},
   "source": [
    "## Visualization\n",
    "\n",
    "Below is a very simple histogram of the depenency arcs used in one document above. Pandas has powerful visualization tools built into the dataframes. To plot the histogram of string keys, however, note that we had to create a python counter from the parts of speech keys, and then convert that counter object to a DataFrame.\n",
    "\n",
    "These visualizations will likely be the crux of our write-up, so it's worth taking time to think about the proper way to graph something. Matplotlib (the charting library pandas relies on) can also be used by itself using just the `plt` package imported above. It has support for bar graphs, line graphs, histograms, scatter plots, etc. The matplotlib gallery is certainly worth perusing to get an idea of the power of the library. (http://matplotlib.org/gallery.html)"
   ]
  },
  {
   "cell_type": "code",
   "execution_count": 12,
   "metadata": {
    "collapsed": false
   },
   "outputs": [
    {
     "data": {
      "text/plain": [
       "<matplotlib.axes._subplots.AxesSubplot at 0x13dcfa790>"
      ]
     },
     "execution_count": 12,
     "metadata": {},
     "output_type": "execute_result"
    },
    {
     "data": {
      "image/png": "[encoded data removed]",
      "text/plain": [
       "<matplotlib.figure.Figure at 0x114621850>"
      ]
     },
     "metadata": {},
     "output_type": "display_data"
    }
   ],
   "source": [
    "cntr = Counter(single_doc.dependency)\n",
    "pd.DataFrame.from_dict(cntr, orient='index').plot(kind='bar')"
   ]
  },
  {
   "cell_type": "markdown",
   "metadata": {},
   "source": [
    "## Next Steps\n",
    "\n",
    "The next steps are the actual data exploration. There are key questions that need answering before we can formally embark on the data exploration, such as: what form should the output for each feature take, how do we get that output into our mixture models in R, etc. But take the time to play around with pandas and try and explore some of the features yourself!"
   ]
  },
  {
   "cell_type": "code",
   "execution_count": 13,
   "metadata": {
    "collapsed": false
   },
   "outputs": [],
   "source": [
    "keys = data.groupby(['subreddit']).groups.keys()"
   ]
  },
  {
   "cell_type": "code",
   "execution_count": 14,
   "metadata": {
    "collapsed": false
   },
   "outputs": [
    {
     "data": {
      "text/plain": [
       "['suicidehelp',\n",
       " 'Plumsuicide',\n",
       " 'minecraftsuicidewatch',\n",
       " 'suicide_watch',\n",
       " 'suicidegirls',\n",
       " 'suicideprevention',\n",
       " 'suicide',\n",
       " 'suicide_methods',\n",
       " 'parasuicide',\n",
       " 'suicidenotes']"
      ]
     },
     "execution_count": 14,
     "metadata": {},
     "output_type": "execute_result"
    }
   ],
   "source": [
    "[k for k in keys if 'suicide' in k]"
   ]
  },
  {
   "cell_type": "code",
   "execution_count": 15,
   "metadata": {
    "collapsed": true
   },
   "outputs": [],
   "source": [
    "# subreddits to filter\n",
    "subreddits_to_filter = [\n",
    "    'suicidehelp', 'suicide_watch', 'suicideprevention', \n",
    "    'suicide', 'suicide_methods', 'suicidenotes', 'depressed', \n",
    "    'depresion', 'antidepressants', 'depressionregimens'\n",
    "]"
   ]
  },
  {
   "cell_type": "code",
   "execution_count": 16,
   "metadata": {
    "collapsed": false
   },
   "outputs": [],
   "source": [
    "controls, positives = data[data['user_id'] < 0]['time'], data[data['user_id'] > 0]['time']"
   ]
  },
  {
   "cell_type": "markdown",
   "metadata": {
    "collapsed": false
   },
   "source": [
    "# Distribution of Post Times\n",
    "\n",
    "To analyze the distribution of post times, we can convert the post times to \"seconds since midnight\" (for the respective day) and plot a histogram."
   ]
  },
  {
   "cell_type": "code",
   "execution_count": 17,
   "metadata": {
    "collapsed": false
   },
   "outputs": [],
   "source": [
    "def time_since_midnight(t):\n",
    "    return (t.hour * 3600) + (t.minute * 60) + t.second + (t.microsecond / 1000000.0)\n",
    "    \n",
    "controls_seconds = controls.apply(lambda t: time_since_midnight(t.time()))\n",
    "positives_seconds = positives.apply(lambda t: time_since_midnight(t.time()))"
   ]
  },
  {
   "cell_type": "code",
   "execution_count": 18,
   "metadata": {
    "collapsed": false
   },
   "outputs": [
    {
     "data": {
      "image/png": "[encoded data removed]",
      "text/plain": [
       "<matplotlib.figure.Figure at 0x146aa2c50>"
      ]
     },
     "metadata": {},
     "output_type": "display_data"
    }
   ],
   "source": [
    "_ = plt.hist(controls_seconds, bins=1000, alpha=0.5, normed=True)\n",
    "_ = plt.hist(positives_seconds, bins=1000, alpha=0.5, normed=True)"
   ]
  },
  {
   "cell_type": "markdown",
   "metadata": {},
   "source": [
    "We can also use Kernel Density Estimation (from Seaborn, it's a pain to do from plain matplotlib/numpy) and plot a smoothed version of the histogram:"
   ]
  },
  {
   "cell_type": "code",
   "execution_count": null,
   "metadata": {
    "collapsed": false
   },
   "outputs": [
    {
     "data": {
      "text/plain": [
       "<matplotlib.axes._subplots.AxesSubplot at 0x13e32d3d0>"
      ]
     },
     "execution_count": 19,
     "metadata": {},
     "output_type": "execute_result"
    },
    {
     "data": {
      "image/png": "[encoded data removed]",
      "text/plain": [
       "<matplotlib.figure.Figure at 0x13dbbbc50>"
      ]
     },
     "metadata": {},
     "output_type": "display_data"
    }
   ],
   "source": [
    "sns.set_style('whitegrid')\n",
    "sns.kdeplot(np.array(controls_seconds), bw=0.001)\n",
    "sns.kdeplot(np.array(positives_seconds), bw=0.001)"
   ]
  },
  {
   "cell_type": "markdown",
   "metadata": {},
   "source": [
    "# Getting Specific Indices/Sampling"
   ]
  },
  {
   "cell_type": "code",
   "execution_count": null,
   "metadata": {
    "collapsed": false
   },
   "outputs": [],
   "source": [
    "training_data = load.select(load.sample_indices)\n",
    "test_data = load.select(load.test_indices)\n",
    "\n",
    "#sampled_data_with_features = load.select(load.sample_indices, df=load.documents)"
   ]
  },
  {
   "cell_type": "code",
   "execution_count": null,
   "metadata": {
    "collapsed": true
   },
   "outputs": [],
   "source": [
    "load.finalize()"
   ]
  },
  {
   "cell_type": "code",
   "execution_count": null,
   "metadata": {
    "collapsed": true
   },
   "outputs": [],
   "source": []
  }
 ],
 "metadata": {
  "anaconda-cloud": {},
  "kernelspec": {
   "display_name": "Python 2",
   "language": "python",
   "name": "python2"
  },
  "language_info": {
   "codemirror_mode": {
    "name": "ipython",
    "version": 2
   },
   "file_extension": ".py",
   "mimetype": "text/x-python",
   "name": "python",
   "nbconvert_exporter": "python",
   "pygments_lexer": "ipython2",
   "version": "2.7.9"
  }
 },
 "nbformat": 4,
 "nbformat_minor": 2
}
