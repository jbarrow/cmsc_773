{
 "cells": [
  {
   "cell_type": "markdown",
   "metadata": {},
   "source": [
    "## Avg Vectors "
   ]
  },
  {
   "cell_type": "markdown",
   "metadata": {},
   "source": [
    "#### Read in data from multiple Spacy tokens file (containing lemmas) and aggregate them, use Glove vector as provided by Spacy for each token and average each post and title seperately.  "
   ]
  },
  {
   "cell_type": "markdown",
   "metadata": {},
   "source": [
    "#### Assumptions:  Empty posts/titles will be all 0s.  Words not found are excluded, and not averaged"
   ]
  },
  {
   "cell_type": "code",
   "execution_count": 1,
   "metadata": {
    "collapsed": true
   },
   "outputs": [],
   "source": [
    "import os\n",
    "import glob\n",
    "import codecs\n",
    "import numpy as np"
   ]
  },
  {
   "cell_type": "code",
   "execution_count": 2,
   "metadata": {
    "collapsed": false
   },
   "outputs": [],
   "source": [
    "import spacy\n",
    "nlp = spacy.load('en')"
   ]
  },
  {
   "cell_type": "code",
   "execution_count": null,
   "metadata": {
    "collapsed": false
   },
   "outputs": [],
   "source": [
    "def read_tokens(mask):\n",
    "    titles = {}\n",
    "    posts = {}\n",
    "    \n",
    "    for f in glob.glob(mask):\n",
    "        with codecs.open(f, 'r', encoding='utf-8') as fp:\n",
    "            for line in fp:\n",
    "                first_tab = line.find('\\t')\n",
    "                post_id = line[:first_tab]\n",
    "                second_tab = line.find('\\t', first_tab+1)\n",
    "                \n",
    "                title = line[first_tab-1:second_tab]\n",
    "                post = line[second_tab:]\n",
    "                \n",
    "                title = title.split()\n",
    "                titles[post_id] = title[1:]  \n",
    "                \n",
    "                posts[post_id] = post.split()\n",
    "    return titles, posts"
   ]
  },
  {
   "cell_type": "code",
   "execution_count": null,
   "metadata": {
    "collapsed": false
   },
   "outputs": [
    {
     "name": "stdout",
     "output_type": "stream",
     "text": [
      "0\n",
      "1\n",
      "2\n",
      "3\n"
     ]
    }
   ],
   "source": [
    "tokenized_titles = {}\n",
    "tokenized_posts = {}\n",
    "i = 0\n",
    "\n",
    "base_i = i\n",
    "more = True\n",
    "while more:\n",
    "    print i\n",
    "    #if i % 100 == 0: print i\n",
    "    if i < base_i + 5 and os.path.isfile('tokens/tokens{}.txt'.format(i)):\n",
    "        titles, posts = read_tokens('tokens/tokens{}.txt'.format(i))\n",
    "        #keys = [key for key in docs.keys() if key]\n",
    "        \n",
    "        #aggregate across all token files\n",
    "        for key in titles:\n",
    "            tokenized_titles[key]= titles[key]\n",
    "        \n",
    "        for key in posts:\n",
    "            tokenized_posts[key] = posts[key]\n",
    "            \n",
    "        i += 1\n",
    "    else:\n",
    "        break\n",
    "        "
   ]
  },
  {
   "cell_type": "code",
   "execution_count": null,
   "metadata": {
    "collapsed": false
   },
   "outputs": [],
   "source": [
    "def average(tokenized):\n",
    "    vector_avg = {}\n",
    "    counter = 0\n",
    "    for key in tokenized:\n",
    "        if counter % 100000 == 0:\n",
    "            print \"Completed \", counter\n",
    "        counter+=1\n",
    "\n",
    "        #create numpyvector as 0s\n",
    "        avg = np.zeros(300)\n",
    "        count = 0\n",
    "        for token in tokenized[key]:\n",
    "            if not nlp.vocab[token].vector.any(0): #do nothing for 0 vectors\n",
    "                ;\n",
    "            else:\n",
    "                avg += nlp.vocab[token].vector\n",
    "                count +=1\n",
    "        if count > 0:\n",
    "            avg/=count\n",
    "        vector_avg[key] = avg \n",
    "    return vector_avg"
   ]
  },
  {
   "cell_type": "code",
   "execution_count": null,
   "metadata": {
    "collapsed": false
   },
   "outputs": [],
   "source": [
    "#to save RAM rename tt and tp to tokenized_titles/posts to overwrite previous dictionaries\n",
    "tt = average(tokenized_titles)"
   ]
  },
  {
   "cell_type": "code",
   "execution_count": null,
   "metadata": {
    "collapsed": true
   },
   "outputs": [],
   "source": [
    "tp = average(tokenized_posts)"
   ]
  },
  {
   "cell_type": "code",
   "execution_count": null,
   "metadata": {
    "collapsed": false
   },
   "outputs": [],
   "source": [
    "np.save('avg_titles', tt)\n",
    "np.save('avg_posts', tp)"
   ]
  },
  {
   "cell_type": "code",
   "execution_count": null,
   "metadata": {
    "collapsed": false
   },
   "outputs": [],
   "source": [
    "indices = []\n",
    "\n",
    "for index in range(0, len(tt)):\n",
    "    items_at_index = tt.keys()[index]\n",
    "    indices.append ([index,items_at_index]) "
   ]
  },
  {
   "cell_type": "code",
   "execution_count": null,
   "metadata": {
    "collapsed": true
   },
   "outputs": [],
   "source": [
    "with open('post_index', 'w')\n",
    "    for row in indices:\n",
    "        output = str(row[0])+\" \"+ str(row[1])+\"\\n\"\n",
    "        f.write(output)"
   ]
  }
 ],
 "metadata": {
  "anaconda-cloud": {},
  "kernelspec": {
   "display_name": "Python [conda root]",
   "language": "python",
   "name": "conda-root-py"
  },
  "language_info": {
   "codemirror_mode": {
    "name": "ipython",
    "version": 2
   },
   "file_extension": ".py",
   "mimetype": "text/x-python",
   "name": "python",
   "nbconvert_exporter": "python",
   "pygments_lexer": "ipython2",
   "version": "2.7.12"
  }
 },
 "nbformat": 4,
 "nbformat_minor": 1
}
