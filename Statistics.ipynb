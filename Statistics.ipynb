{
 "cells": [
  {
   "cell_type": "code",
   "execution_count": 1,
   "metadata": {
    "collapsed": true
   },
   "outputs": [],
   "source": [
    "from clpsych.store import Store\n",
    "from clpsych.data import *\n",
    "\n",
    "import codecs\n",
    "import os"
   ]
  },
  {
   "cell_type": "code",
   "execution_count": 9,
   "metadata": {},
   "outputs": [
    {
     "name": "stdout",
     "output_type": "stream",
     "text": [
      "0\n",
      "10\n",
      "20\n",
      "30\n",
      "40\n",
      "50\n",
      "60\n",
      "70\n",
      "80\n",
      "90\n",
      "100\n",
      "110\n",
      "120\n",
      "130\n",
      "140\n",
      "150\n",
      "160\n",
      "170\n",
      "180\n",
      "190\n",
      "200\n",
      "210\n"
     ]
    }
   ],
   "source": [
    "tokenized = {}\n",
    "i = 0\n",
    "base_i = i\n",
    "more = True\n",
    "while more:\n",
    "    if i % 10 == 0: print i\n",
    "    if os.path.isfile('data/parses/{}.parse'.format(i)):\n",
    "        docs, titles = read_parses('data/parses/{}.parse'.format(i))\n",
    "        keys = [key for key in docs.keys() if key]\n",
    "        for key in keys:\n",
    "            doc, title = [], []\n",
    "            for token in docs[key]:\n",
    "                doc.append(token.lemma)\n",
    "            for token in titles[key]:\n",
    "                title.append(token.lemma)\n",
    "            tokenized[key] = (title, doc)\n",
    "        i += 1\n",
    "    else:\n",
    "        break"
   ]
  },
  {
   "cell_type": "raw",
   "metadata": {},
   "source": [
    "docs.keys()[:1000]"
   ]
  },
  {
   "cell_type": "code",
   "execution_count": null,
   "metadata": {
    "collapsed": true
   },
   "outputs": [],
   "source": []
  },
  {
   "cell_type": "markdown",
   "metadata": {},
   "source": [
    "# Labeling Data"
   ]
  },
  {
   "cell_type": "code",
   "execution_count": 2,
   "metadata": {
    "collapsed": true
   },
   "outputs": [],
   "source": [
    "def line(post_id, title, doc):\n",
    "    return post_id + '\\t' + ' '.join(title) + '\\t' + ' '.join(doc) + '\\n'\n",
    "\n",
    "def save_classes(dataframe, filename='post_class.txt'):\n",
    "    sub = dataframe[['post_id', 'user_id']]\n",
    "    sub['class'] = sub['user_id'] > 0\n",
    "    sub[['post_id', 'class']].to_csv(filename)"
   ]
  },
  {
   "cell_type": "code",
   "execution_count": 3,
   "metadata": {
    "collapsed": true
   },
   "outputs": [],
   "source": [
    "store = Store('data.h5')"
   ]
  },
  {
   "cell_type": "code",
   "execution_count": 4,
   "metadata": {
    "collapsed": true
   },
   "outputs": [],
   "source": [
    "df = store.data"
   ]
  },
  {
   "cell_type": "code",
   "execution_count": 9,
   "metadata": {
    "collapsed": true
   },
   "outputs": [],
   "source": [
    "# remove posts from suicide_watch\n",
    "df = df[df.subreddit != 'SuicideWatch']"
   ]
  },
  {
   "cell_type": "code",
   "execution_count": 10,
   "metadata": {
    "collapsed": true
   },
   "outputs": [],
   "source": [
    "train = df.merge(store.train_indices, on='user_id')\n",
    "test = df.merge(store.test_indices, on='user_id')\n",
    "dev = df.merge(store.dev_indices, on='user_id')\n",
    "sample = df.merge(store.sample_indices, on='user_id')"
   ]
  },
  {
   "cell_type": "code",
   "execution_count": 11,
   "metadata": {},
   "outputs": [
    {
     "name": "stderr",
     "output_type": "stream",
     "text": [
      "/usr/local/lib/python2.7/dist-packages/ipykernel_launcher.py:6: SettingWithCopyWarning: \n",
      "A value is trying to be set on a copy of a slice from a DataFrame.\n",
      "Try using .loc[row_indexer,col_indexer] = value instead\n",
      "\n",
      "See the caveats in the documentation: http://pandas.pydata.org/pandas-docs/stable/indexing.html#indexing-view-versus-copy\n",
      "  \n"
     ]
    }
   ],
   "source": [
    "save_classes(train, 'data/classes/train_classes.txt')\n",
    "save_classes(test, 'data/classes/test_classes.txt')\n",
    "save_classes(dev, 'data/classes/dev_classes.txt')\n",
    "save_classes(sample, 'data/classes/sample_classes.txt')"
   ]
  },
  {
   "cell_type": "markdown",
   "metadata": {},
   "source": [
    "# Generating Sub-pieces of the Parse"
   ]
  },
  {
   "cell_type": "code",
   "execution_count": 12,
   "metadata": {
    "collapsed": true
   },
   "outputs": [],
   "source": [
    "keys = [key for key in tokenized.keys() if key]\n",
    "\n",
    "with codecs.open('data/tokens/lemmas.txt', 'w', encoding='utf-8') as fp:\n",
    "    for key in keys:\n",
    "        fp.write(line(key, *tokenized[key]))"
   ]
  }
 ],
 "metadata": {
  "kernelspec": {
   "display_name": "Python 2",
   "language": "python",
   "name": "python2"
  },
  "language_info": {
   "codemirror_mode": {
    "name": "ipython",
    "version": 2
   },
   "file_extension": ".py",
   "mimetype": "text/x-python",
   "name": "python",
   "nbconvert_exporter": "python",
   "pygments_lexer": "ipython2",
   "version": "2.7.12"
  }
 },
 "nbformat": 4,
 "nbformat_minor": 2
}
