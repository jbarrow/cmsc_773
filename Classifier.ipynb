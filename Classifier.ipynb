{
 "cells": [
  {
   "cell_type": "code",
   "execution_count": 1,
   "metadata": {
    "collapsed": true
   },
   "outputs": [],
   "source": [
    "%matplotlib inline"
   ]
  },
  {
   "cell_type": "code",
   "execution_count": 2,
   "metadata": {
    "collapsed": true
   },
   "outputs": [],
   "source": [
    "from sklearn.metrics import roc_auc_score, roc_curve, accuracy_score, f1_score\n",
    "from sklearn.ensemble import RandomForestClassifier\n",
    "\n",
    "import matplotlib.pyplot as plt\n",
    "import seaborn as sns\n",
    "import pandas as pd\n",
    "import numpy as np"
   ]
  },
  {
   "cell_type": "code",
   "execution_count": 3,
   "metadata": {
    "collapsed": true
   },
   "outputs": [],
   "source": [
    "# we have two dataframes, a post-level dataframe and a user-level dataframe\n",
    "posts = pd.DataFrame.from_csv('data/features/liwc.csv')\n",
    "sent1 = pd.DataFrame.from_csv('data/features/sentiment_all.csv')\n",
    "read1 = pd.DataFrame.from_csv('data/features/readability1.csv')\n",
    "read2 = pd.DataFrame.from_csv('data/features/readability2.csv')\n",
    "times = pd.DataFrame.from_csv('data/features/timing.csv')\n",
    "words = pd.DataFrame.from_csv('data/features/bow_100.csv')\n",
    "sents = pd.DataFrame.from_csv('data/features/sentence_features.csv')\n",
    "\n",
    "posts = posts\\\n",
    "    .merge(sent1[['post_id', 'user_id', 'text_sentiment', 'title_sentiment']], on='post_id')\\\n",
    "    .meitrge(read1[['post_id', 'text_smog', 'text_readability', 'title_readability']], on='post_id')\\\n",
    "    .merge(read2[['post_id', 'title_smog']], on='post_id')\\\n",
    "    .merge(times[['post_id', 'night_post', 'time_since_last_post']], on='post_id')\\\n",
    "    .merge(words, on='post_id')\\\n",
    "    .merge(sents, on='post_id')"
   ]
  },
  {
   "cell_type": "code",
   "execution_count": 4,
   "metadata": {
    "collapsed": true
   },
   "outputs": [],
   "source": [
    "subrs = pd.DataFrame.from_csv('data/features/subreddits.csv')"
   ]
  },
  {
   "cell_type": "code",
   "execution_count": 5,
   "metadata": {},
   "outputs": [
    {
     "name": "stdout",
     "output_type": "stream",
     "text": [
      "Once deleted, variables cannot be recovered. Proceed (y/[n])?  y\n",
      "Once deleted, variables cannot be recovered. Proceed (y/[n])?  y\n",
      "Once deleted, variables cannot be recovered. Proceed (y/[n])?  y\n",
      "Once deleted, variables cannot be recovered. Proceed (y/[n])?  y\n",
      "Once deleted, variables cannot be recovered. Proceed (y/[n])?  y\n",
      "Once deleted, variables cannot be recovered. Proceed (y/[n])?  y\n"
     ]
    }
   ],
   "source": [
    "%reset_selective sent1\n",
    "%reset_selective read1\n",
    "%reset_selective read2\n",
    "%reset_selective times\n",
    "%reset_selective words\n",
    "%reset_selective sents"
   ]
  },
  {
   "cell_type": "code",
   "execution_count": 6,
   "metadata": {
    "collapsed": true
   },
   "outputs": [],
   "source": [
    "train_classes = pd.DataFrame.from_csv('data/classes/train_classes.txt')\n",
    "dev_classes = pd.DataFrame.from_csv('data/classes/dev_classes.txt')\n",
    "test_classes = pd.DataFrame.from_csv('data/classes/test_classes.txt')"
   ]
  },
  {
   "cell_type": "code",
   "execution_count": 7,
   "metadata": {},
   "outputs": [
    {
     "name": "stdout",
     "output_type": "stream",
     "text": [
      "Once deleted, variables cannot be recovered. Proceed (y/[n])?  n\n",
      "Nothing done.\n"
     ]
    }
   ],
   "source": [
    "training = posts.merge(train_classes, on='post_id')\n",
    "dev = posts.merge(dev_classes, on='post_id')\n",
    "testing = posts.merge(test_classes, on='post_id')\n",
    "\n",
    "%reset_selective posts"
   ]
  },
  {
   "cell_type": "code",
   "execution_count": 8,
   "metadata": {
    "collapsed": true
   },
   "outputs": [],
   "source": [
    "sd_features = [\n",
    "    'text_sentiment', 'title_sentiment', 'text_smog', 'text_readability',\n",
    "    'title_readability', 'title_smog', 'night_post', 'time_since_last_post', 'user_id'\n",
    "]"
   ]
  },
  {
   "cell_type": "code",
   "execution_count": 13,
   "metadata": {
    "collapsed": true
   },
   "outputs": [],
   "source": [
    "def process_df(df):\n",
    "    df_grouped = df.drop('class', 1).drop('post_id', 1).groupby('user_id')\n",
    "    df_grouped_sd = df[sd_features].groupby('user_id').aggregate(np.std).reset_index()\n",
    "    df_grouped_cnt = df[['user_id', 'post_id']].groupby('user_id').agg({ 'post_id': pd.Series.nunique })\n",
    "    df_grouped_cnt = df_grouped_cnt.reset_index()\n",
    "\n",
    "    return df_grouped.aggregate(np.sum).reset_index()\\\n",
    "        .merge(df_grouped_sd, on='user_id')\\\n",
    "        .merge(df_grouped_cnt, on='user_id')"
   ]
  },
  {
   "cell_type": "code",
   "execution_count": 16,
   "metadata": {
    "collapsed": true
   },
   "outputs": [],
   "source": [
    "training = process_df(training)\n",
    "dev = process_df(dev)\n",
    "testing = process_df(testing)"
   ]
  },
  {
   "cell_type": "code",
   "execution_count": 18,
   "metadata": {},
   "outputs": [
    {
     "name": "stdout",
     "output_type": "stream",
     "text": [
      "Once deleted, variables cannot be recovered. Proceed (y/[n])?  n\n",
      "Nothing done.\n",
      "Once deleted, variables cannot be recovered. Proceed (y/[n])?  n\n",
      "Nothing done.\n",
      "Once deleted, variables cannot be recovered. Proceed (y/[n])?  n\n",
      "Nothing done.\n"
     ]
    }
   ],
   "source": [
    "X_train = training.merge(subrs, on='user_id').drop('user_id', 1).as_matrix()\n",
    "y_train = (training['user_id'] > 0).as_matrix()\n",
    "\n",
    "X_dev = dev.merge(subrs, on='user_id').drop('user_id', 1).as_matrix()\n",
    "y_dev = (dev['user_id'] > 0).as_matrix()\n",
    "\n",
    "X_test = testing.merge(subrs, on='user_id').drop('user_id', 1).as_matrix()\n",
    "y_test = (testing['user_id'] > 0).as_matrix()\n",
    "\n",
    "%reset_selective testing\n",
    "%reset_selective dev\n",
    "%reset_selective training"
   ]
  },
  {
   "cell_type": "code",
   "execution_count": 19,
   "metadata": {
    "collapsed": true
   },
   "outputs": [],
   "source": [
    "X_train[np.isnan(X_train)] = 10000.\n",
    "X_dev[np.isnan(X_dev)] = 10000.\n",
    "X_test[np.isnan(X_test)] = 10000."
   ]
  },
  {
   "cell_type": "markdown",
   "metadata": {},
   "source": [
    "# Aggregating our Data"
   ]
  },
  {
   "cell_type": "code",
   "execution_count": 38,
   "metadata": {},
   "outputs": [
    {
     "data": {
      "text/plain": [
       "RandomForestClassifier(bootstrap=True, class_weight=None, criterion='gini',\n",
       "            max_depth=14, max_features=150, max_leaf_nodes=None,\n",
       "            min_impurity_split=0.02, min_samples_leaf=13,\n",
       "            min_samples_split=2, min_weight_fraction_leaf=0.0,\n",
       "            n_estimators=42, n_jobs=6, oob_score=False, random_state=1,\n",
       "            verbose=0, warm_start=True)"
      ]
     },
     "execution_count": 38,
     "metadata": {},
     "output_type": "execute_result"
    }
   ],
   "source": [
    "clf = RandomForestClassifier(\n",
    "    n_estimators=42, \n",
    "    max_depth=14,\n",
    "    min_samples_leaf=13,\n",
    "    n_jobs=6, \n",
    "    random_state=1, \n",
    "    min_impurity_split=2e-2,\n",
    "    warm_start=True,\n",
    "    max_features=150\n",
    ")\n",
    "\n",
    "clf.fit(X_train, y_train)\n",
    "\n",
    "# 40, 15, 15, 1, 1e-2, True"
   ]
  },
  {
   "cell_type": "code",
   "execution_count": 40,
   "metadata": {},
   "outputs": [
    {
     "name": "stdout",
     "output_type": "stream",
     "text": [
      "Accuracy: 0.790571169538\n",
      "AUC: 0.880546420149\n",
      "F1 Score: 0.786506469501\n"
     ]
    },
    {
     "data": {
      "image/png": "[encoded data removed]",
      "text/plain": [
       "<matplotlib.figure.Figure at 0x7f8a2e2f3450>"
      ]
     },
     "metadata": {},
     "output_type": "display_data"
    }
   ],
   "source": [
    "X_cur, y_cur = X_test, y_test\n",
    "\n",
    "labels = clf.predict_proba(X_cur)\n",
    "\n",
    "print 'Accuracy:', accuracy_score(y_cur, np.argmax(labels, axis=1))\n",
    "\n",
    "fpr, tpr, thresholds = roc_curve(y_cur, labels[:, 1])\n",
    "\n",
    "plt.plot(fpr, tpr)\n",
    "plt.title('ROC Curve (AUC: {})'.format(roc_auc_score(y_cur, labels[:, 1])))\n",
    "plt.xlabel('FPR')\n",
    "plt.ylabel('TPR')\n",
    "plt.xlim(0, 1)\n",
    "plt.ylim(0, 1)\n",
    "plt.plot([0, 1], [0, 1], 'k--')\n",
    "\n",
    "print 'AUC:', roc_auc_score(y_cur, labels[:, 1])\n",
    "print 'F1 Score:', f1_score(y_cur, np.argmax(labels, axis=1))\n",
    "\n",
    "plt.savefig('100_test_ROC_Curve.png')"
   ]
  },
  {
   "cell_type": "code",
   "execution_count": null,
   "metadata": {
    "collapsed": true
   },
   "outputs": [],
   "source": []
  }
 ],
 "metadata": {
  "kernelspec": {
   "display_name": "Python 2",
   "language": "python",
   "name": "python2"
  },
  "language_info": {
   "codemirror_mode": {
    "name": "ipython",
    "version": 2
   },
   "file_extension": ".py",
   "mimetype": "text/x-python",
   "name": "python",
   "nbconvert_exporter": "python",
   "pygments_lexer": "ipython2",
   "version": "2.7.12"
  }
 },
 "nbformat": 4,
 "nbformat_minor": 2
}
