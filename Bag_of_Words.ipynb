{
 "cells": [
  {
   "cell_type": "code",
   "execution_count": 1,
   "metadata": {
    "collapsed": true
   },
   "outputs": [],
   "source": [
    "%matplotlib inline"
   ]
  },
  {
   "cell_type": "code",
   "execution_count": 2,
   "metadata": {
    "collapsed": false
   },
   "outputs": [],
   "source": [
    "from sklearn.feature_extraction.text import CountVectorizer, TfidfTransformer\n",
    "from sklearn.naive_bayes import MultinomialNB\n",
    "from sklearn.linear_model import LogisticRegression\n",
    "from sklearn.ensemble import RandomForestClassifier\n",
    "from sklearn.metrics import roc_curve, accuracy_score, roc_auc_score\n",
    "from sklearn.decomposition import TruncatedSVD, IncrementalPCA\n",
    "from scipy.stats import chi2_contingency\n",
    "from nltk.probability import FreqDist\n",
    "from collections import defaultdict\n",
    "from clpsych.store import Store\n",
    "from clpsych.helpers import load_tokens\n",
    "\n",
    "import matplotlib.pyplot as plt\n",
    "import seaborn as sns\n",
    "import scipy.sparse\n",
    "import pandas as pd\n",
    "import numpy as np\n",
    "import codecs\n",
    "import glob"
   ]
  },
  {
   "cell_type": "code",
   "execution_count": 3,
   "metadata": {
    "collapsed": false
   },
   "outputs": [],
   "source": [
    "def get_distribution(dataframe, key='title'):\n",
    "    words = []\n",
    "    for row in dataframe[key].apply(lambda x: x.split()).ravel():\n",
    "        words.extend(row)\n",
    "    return FreqDist(words)\n",
    "\n",
    "def aggregate_posts(posts_with_users):\n",
    "    users = defaultdict(list)\n",
    "    labeled_users, bows = [], []\n",
    "\n",
    "    for i, post_id, user_id in posts_with_users.itertuples():\n",
    "        users[user_id].append(i)\n",
    "\n",
    "    for user, posts in users.items():\n",
    "        bows.append(np.sum(vocab[posts], axis=0))\n",
    "        labeled_users.append(user > 0)\n",
    "\n",
    "    bows = np.vstack(bows)\n",
    "    labeled_users = np.array(labeled_users)\n",
    "    \n",
    "    return bows, labeled_users"
   ]
  },
  {
   "cell_type": "code",
   "execution_count": 4,
   "metadata": {
    "collapsed": false
   },
   "outputs": [],
   "source": [
    "train_classes = pd.DataFrame.from_csv('data/classes/sample_classes.txt')\n",
    "dev_classes = pd.DataFrame.from_csv('data/classes/dev_classes.txt')\n",
    "#sample_classes = pd.DataFrame.from_csv('data/classes/sample_classes.txt')"
   ]
  },
  {
   "cell_type": "code",
   "execution_count": 5,
   "metadata": {
    "collapsed": false
   },
   "outputs": [],
   "source": [
    "df = load_tokens(mask='data/tokens/tokens?.txt')\n",
    "\n",
    "sent1 = pd.DataFrame.from_csv('data/features/sentiment_all.csv')\n",
    "read1 = pd.DataFrame.from_csv('data/features/readability1.csv')\n",
    "read2 = pd.DataFrame.from_csv('data/features/readability2.csv')\n",
    "\n",
    "df = df\\\n",
    "    .merge(sent1[['post_id', 'user_id', 'text_sentiment', 'title_sentiment']], on='post_id')\\\n",
    "    .merge(read1[['post_id', 'text_smog', 'text_readability', 'title_readability']], on='post_id')\\\n",
    "    .merge(read2[['post_id', 'title_smog']], on='post_id')"
   ]
  },
  {
   "cell_type": "code",
   "execution_count": 6,
   "metadata": {
    "collapsed": false
   },
   "outputs": [
    {
     "name": "stdout",
     "output_type": "stream",
     "text": [
      "Once deleted, variables cannot be recovered. Proceed (y/[n])?  y\n",
      "Once deleted, variables cannot be recovered. Proceed (y/[n])?  y\n",
      "Once deleted, variables cannot be recovered. Proceed (y/[n])?  y\n"
     ]
    }
   ],
   "source": [
    "# clear unused variables\n",
    "%reset_selective sent1\n",
    "%reset_selective read1\n",
    "%reset_selective read2"
   ]
  },
  {
   "cell_type": "code",
   "execution_count": 7,
   "metadata": {
    "collapsed": false
   },
   "outputs": [],
   "source": [
    "labeled_docs = df.merge(train_classes, on='post_id').replace(np.nan, '', regex=True)\n",
    "test_docs = df.merge(dev_classes, on='post_id').replace(np.nan, '', regex=True)"
   ]
  },
  {
   "cell_type": "code",
   "execution_count": 8,
   "metadata": {
    "collapsed": false
   },
   "outputs": [],
   "source": [
    "labeled_docs['text_features'] = labeled_docs[['title', 'doc']].apply(lambda x: ' '.join(x), axis=1)\n",
    "test_docs['text_features'] = test_docs[['title', 'doc']].apply(lambda x: ' '.join(x), axis=1)"
   ]
  },
  {
   "cell_type": "code",
   "execution_count": 9,
   "metadata": {
    "collapsed": false
   },
   "outputs": [
    {
     "name": "stdout",
     "output_type": "stream",
     "text": [
      "Once deleted, variables cannot be recovered. Proceed (y/[n])?  y\n"
     ]
    }
   ],
   "source": [
    "# clear out the big dataframe -- now we only need the subsets\n",
    "%reset_selective df"
   ]
  },
  {
   "cell_type": "markdown",
   "metadata": {},
   "source": [
    "# Classification"
   ]
  },
  {
   "cell_type": "code",
   "execution_count": 29,
   "metadata": {
    "collapsed": false
   },
   "outputs": [],
   "source": [
    "from sklearn.feature_extraction.text import CountVectorizer, TfidfTransformer\n",
    "\n",
    "vectorizer = CountVectorizer(\n",
    "    tokenizer=lambda x: x.split(), \n",
    "    stop_words='english', \n",
    "    decode_error='ignore', \n",
    "    min_df=40\n",
    ")\n",
    "\n",
    "transformer = TfidfTransformer()"
   ]
  },
  {
   "cell_type": "code",
   "execution_count": 30,
   "metadata": {
    "collapsed": false
   },
   "outputs": [],
   "source": [
    "vectorizer.fit(labeled_docs.text_features)\n",
    "vocab = vectorizer.transform(labeled_docs.text_features)\n",
    "transformer.fit(vocab)\n",
    "vocab = transformer.transform(vocab)\n",
    "test = transformer.transform(vectorizer.transform(test_docs.text_features))\n",
    "#test = vectorizer.transform(test_docs.title)"
   ]
  },
  {
   "cell_type": "code",
   "execution_count": 31,
   "metadata": {
    "collapsed": false
   },
   "outputs": [],
   "source": [
    "#svd = TruncatedSVD(n_components=300, algorithm='arpack')\n",
    "#svd.fit(vocab)"
   ]
  },
  {
   "cell_type": "code",
   "execution_count": 13,
   "metadata": {
    "collapsed": false
   },
   "outputs": [],
   "source": [
    "#vocab = svd.transform(vocab)\n",
    "#test = svd.transform(test)"
   ]
  },
  {
   "cell_type": "code",
   "execution_count": 14,
   "metadata": {
    "collapsed": false
   },
   "outputs": [
    {
     "name": "stdout",
     "output_type": "stream",
     "text": [
      "Once deleted, variables cannot be recovered. Proceed (y/[n])?  n\n",
      "Nothing done.\n",
      "Once deleted, variables cannot be recovered. Proceed (y/[n])?  n\n",
      "Nothing done.\n",
      "Once deleted, variables cannot be recovered. Proceed (y/[n])?  n\n",
      "Nothing done.\n"
     ]
    }
   ],
   "source": [
    "%reset_selective svd\n",
    "%reset_selective vectorizer\n",
    "%reset_selective transformer"
   ]
  },
  {
   "cell_type": "code",
   "execution_count": 32,
   "metadata": {
    "collapsed": false
   },
   "outputs": [],
   "source": [
    "features = ['text_sentiment', 'title_sentiment', 'text_readability', 'title_readability', 'text_smog', 'title_smog']\n",
    "\n",
    "X_train = labeled_docs[features].as_matrix()\n",
    "y_train = labeled_docs['class'].as_matrix().astype('float')\n",
    "\n",
    "X_test = test_docs[features].as_matrix()\n",
    "y_test = test_docs['class'].as_matrix().astype('float')"
   ]
  },
  {
   "cell_type": "code",
   "execution_count": 16,
   "metadata": {
    "collapsed": false
   },
   "outputs": [
    {
     "name": "stdout",
     "output_type": "stream",
     "text": [
      "Once deleted, variables cannot be recovered. Proceed (y/[n])?  n\n",
      "Nothing done.\n",
      "Once deleted, variables cannot be recovered. Proceed (y/[n])?  n\n",
      "Nothing done.\n"
     ]
    }
   ],
   "source": [
    "# clear out some additional memory\n",
    "%reset_selective labeled_docs\n",
    "%reset_selective test_docs"
   ]
  },
  {
   "cell_type": "code",
   "execution_count": 33,
   "metadata": {
    "collapsed": false
   },
   "outputs": [],
   "source": [
    "# start with the smaller matri\n",
    "#X_test = np.hstack((test, X_test))\n",
    "#%reset_selective test\n",
    "# hstack and then immediately try and reclaim space\n",
    "#X_train = np.hstack((vocab, X_train))\n",
    "#%reset_selective vocab\n",
    "\n",
    "X_test = scipy.sparse.hstack((test, X_test))\n",
    "X_train = scipy.sparse.hstack((vocab, X_train))"
   ]
  },
  {
   "cell_type": "markdown",
   "metadata": {},
   "source": [
    "### Classify Each User"
   ]
  },
  {
   "cell_type": "code",
   "execution_count": 34,
   "metadata": {
    "collapsed": false
   },
   "outputs": [],
   "source": [
    "#clf = MultinomialNB()\n",
    "#clf = RandomForestClassifier(n_estimators=50, max_depth=20)\n",
    "clf = LogisticRegression()"
   ]
  },
  {
   "cell_type": "code",
   "execution_count": 35,
   "metadata": {
    "collapsed": false
   },
   "outputs": [
    {
     "data": {
      "text/plain": [
       "LogisticRegression(C=1.0, class_weight=None, dual=False, fit_intercept=True,\n",
       "          intercept_scaling=1, max_iter=100, multi_class='ovr', n_jobs=1,\n",
       "          penalty='l2', random_state=None, solver='liblinear', tol=0.0001,\n",
       "          verbose=0, warm_start=False)"
      ]
     },
     "execution_count": 35,
     "metadata": {},
     "output_type": "execute_result"
    }
   ],
   "source": [
    "#clf.fit(train_bows, train_labels)\n",
    "clf.fit(X_train, y_train)"
   ]
  },
  {
   "cell_type": "code",
   "execution_count": 36,
   "metadata": {
    "collapsed": false
   },
   "outputs": [],
   "source": [
    "labels = clf.predict_proba(X_test)"
   ]
  },
  {
   "cell_type": "code",
   "execution_count": 37,
   "metadata": {
    "collapsed": false
   },
   "outputs": [
    {
     "data": {
      "text/plain": [
       "0.71403683184371558"
      ]
     },
     "execution_count": 37,
     "metadata": {},
     "output_type": "execute_result"
    }
   ],
   "source": [
    "accuracy_score(y_test, np.argmax(labels, axis=1))"
   ]
  },
  {
   "cell_type": "code",
   "execution_count": 45,
   "metadata": {
    "collapsed": false
   },
   "outputs": [],
   "source": [
    "fpr, tpr, thresholds = roc_curve(y_test, labels[:, 1])"
   ]
  },
  {
   "cell_type": "code",
   "execution_count": 39,
   "metadata": {
    "collapsed": false
   },
   "outputs": [
    {
     "data": {
      "text/plain": [
       "[<matplotlib.lines.Line2D at 0x1227cf550>]"
      ]
     },
     "execution_count": 39,
     "metadata": {},
     "output_type": "execute_result"
    },
    {
     "data": {
      "image/png": "[encoded data removed]",
      "text/plain": [
       "<matplotlib.figure.Figure at 0x11672d6d0>"
      ]
     },
     "metadata": {},
     "output_type": "display_data"
    }
   ],
   "source": [
    "plt.plot(fpr, tpr)\n",
    "plt.title('ROC Curve')\n",
    "plt.xlabel('FPR')\n",
    "plt.ylabel('TPR')\n",
    "plt.xlim(0, 1)\n",
    "plt.ylim(0, 1)\n",
    "plt.plot([0, 1], [0, 1], 'k--')"
   ]
  },
  {
   "cell_type": "code",
   "execution_count": 40,
   "metadata": {
    "collapsed": false
   },
   "outputs": [
    {
     "data": {
      "text/plain": [
       "0.5860715776836416"
      ]
     },
     "execution_count": 40,
     "metadata": {},
     "output_type": "execute_result"
    }
   ],
   "source": [
    "roc_auc_score(y_test, labels[:, 1])"
   ]
  },
  {
   "cell_type": "markdown",
   "metadata": {},
   "source": [
    "### Aggregate the Posts by User"
   ]
  },
  {
   "cell_type": "code",
   "execution_count": 25,
   "metadata": {
    "collapsed": false
   },
   "outputs": [],
   "source": [
    "#posts_with_users = labeled_docs.merge(data[['post_id', 'user_id']], on='post_id')[['post_id', 'user_id']]\n",
    "#train_bows, train_labels = aggregate_posts(labeled_docs)"
   ]
  },
  {
   "cell_type": "code",
   "execution_count": 26,
   "metadata": {
    "collapsed": false
   },
   "outputs": [],
   "source": [
    "#test_posts_with_users = test_docs.merge(data[['post_id', 'user_id']], on='post_id')[['post_id', 'user_id']]\n",
    "#test_bows, test_labels = aggregate_posts(test_docs)"
   ]
  },
  {
   "cell_type": "markdown",
   "metadata": {
    "collapsed": true
   },
   "source": [
    "# Statistical Tests"
   ]
  },
  {
   "cell_type": "code",
   "execution_count": 27,
   "metadata": {
    "collapsed": false
   },
   "outputs": [],
   "source": [
    "# positives = labeled_docs[labeled_docs['class'] == False]\n",
    "# controls = labeled_docs[labeled_docs['class'] == True]\n",
    "\n",
    "# positive_dist = get_distribution(positives, key='title')\n",
    "# controls_dist = get_distribution(controls, key='title')"
   ]
  },
  {
   "cell_type": "code",
   "execution_count": 28,
   "metadata": {
    "collapsed": false
   },
   "outputs": [],
   "source": [
    "# values = []\n",
    "# for word, count in positive_dist.most_common():\n",
    "#     if count < 50 or 1. * count / len(positives) > 0.4: continue\n",
    "        \n",
    "#     obs = np.array([\n",
    "#         [positive_dist[word], positive_dist.N()-positive_dist[word]],\n",
    "#         [controls_dist[word], controls_dist.N()-controls_dist[word]]\n",
    "#     ])\n",
    "#     g, p, _, _ = chi2_contingency(obs, lambda_='log-likelihood')\n",
    "#     values.append((word, g))\n",
    "\n",
    "# values = sorted(values, key=lambda x: x[1], reverse=True)"
   ]
  }
 ],
 "metadata": {
  "kernelspec": {
   "display_name": "Python 2",
   "language": "python",
   "name": "python2"
  },
  "language_info": {
   "codemirror_mode": {
    "name": "ipython",
    "version": 2
   },
   "file_extension": ".py",
   "mimetype": "text/x-python",
   "name": "python",
   "nbconvert_exporter": "python",
   "pygments_lexer": "ipython2",
   "version": "2.7.9"
  }
 },
 "nbformat": 4,
 "nbformat_minor": 2
}
