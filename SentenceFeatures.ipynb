{
 "cells": [
  {
   "cell_type": "code",
   "execution_count": 2,
   "metadata": {
    "collapsed": true
   },
   "outputs": [],
   "source": [
    "from clpsych.data import *\n",
    "import pandas as pd\n",
    "import os"
   ]
  },
  {
   "cell_type": "code",
   "execution_count": 8,
   "metadata": {},
   "outputs": [
    {
     "name": "stdout",
     "output_type": "stream",
     "text": [
      "0\n",
      "20\n",
      "40\n",
      "60\n",
      "80\n",
      "100\n",
      "120\n",
      "140\n",
      "160\n",
      "180\n",
      "200\n"
     ]
    }
   ],
   "source": [
    "sent_features = []\n",
    "i = 0\n",
    "while os.path.isfile('data/parses/{}.parse'.format(i)):\n",
    "    if i % 20 == 0: print i\n",
    "    # load all the parses\n",
    "    docs, titles = read_parses('data/parses/{}.parse'.format(i))\n",
    "    keys = [key for key in docs.keys() if key]\n",
    "    for key in keys:\n",
    "        len_title = 1. * len(titles[key])\n",
    "        frq_title = 1. * len([1. for token in titles[key] if token.rank < 100000])\n",
    "        acc_title = 1. * len([1. for token in titles[key] if token.rank != 0])\n",
    "        num_sents = 1. * len([1. for token in docs[key] if token.sent == 0])\n",
    "        avg_snlen = 1. * len(docs[key]) / max(1, num_sents)\n",
    "        sent_features.append((key, len_title, frq_title, acc_title, num_sents, avg_snlen))\n",
    "    i += 1\n",
    "sent_features = pd.DataFrame(sent_features, columns=['post_id', 'title_len', 'title_freq', 'title_acc', 'num_sents', 'avg_sent_length'])"
   ]
  },
  {
   "cell_type": "code",
   "execution_count": 10,
   "metadata": {
    "collapsed": true
   },
   "outputs": [],
   "source": [
    "sent_features.to_csv('data/features/sentence_features.csv')"
   ]
  }
 ],
 "metadata": {
  "kernelspec": {
   "display_name": "Python 2",
   "language": "python",
   "name": "python2"
  },
  "language_info": {
   "codemirror_mode": {
    "name": "ipython",
    "version": 2
   },
   "file_extension": ".py",
   "mimetype": "text/x-python",
   "name": "python",
   "nbconvert_exporter": "python",
   "pygments_lexer": "ipython2",
   "version": "2.7.12"
  }
 },
 "nbformat": 4,
 "nbformat_minor": 2
}
